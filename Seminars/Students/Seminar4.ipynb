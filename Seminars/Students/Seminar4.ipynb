{
  "cells": [
    {
      "cell_type": "markdown",
      "source": [
        "# Module 1: Problems\n",
        "**Seminar workflow:**\n",
        "1. **Find the derivative of softmax**\n",
        "2. **Find the derivative of cross-entropy.**"
      ],
      "metadata": {
        "id": "SGDF2XsH8HjH"
      }
    },
    {
      "cell_type": "markdown",
      "source": [
        "**Part 1: Derivative of softmax**"
      ],
      "metadata": {
        "id": "63bnHPYJ662i"
      }
    },
    {
      "cell_type": "markdown",
      "source": [
        "Consider the softmax funstion:\n",
        "\n",
        "$$S(x_{i}) = \\frac{e^{x_i}}{\\sum_{k=1}^K e^{x_k}} \\;\\;\\;\\text{ for } i = 1, \\dots, K$$"
      ],
      "metadata": {
        "id": "nGc15ZhP30Fh"
      }
    },
    {
      "cell_type": "markdown",
      "source": [
        "Softmax takes a $K$-dimensional vector as input and outputs $K$-dimensional vector $S(x): \\mathbb{R}^{K} \\rightarrow \\mathbb{R}^{K}$:\n",
        "$$S(x): \\begin{bmatrix}x_{1} \\\\ x_{2}\\\\ \\vdots \\\\x_{K} \\end{bmatrix} \\rightarrow \\begin{bmatrix}S_{1} \\\\ S_{2}\\\\ \\vdots \\\\S_{K}\\end{bmatrix}$$"
      ],
      "metadata": {
        "id": "HqSCwBTm2u5g"
      }
    },
    {
      "cell_type": "markdown",
      "source": [
        "Thus, the derivative of softmax function is Jacobian matrix:\n",
        "$$\\frac{\\partial S}{\\partial x} =\n",
        "\\begin{bmatrix}\n",
        "\\frac{\\partial S_{1}}{\\partial x_{1}} & \\frac{\\partial S_{1}}{\\partial x_{2}} & \\cdots & \\frac{\\partial S_{1}}{\\partial x_{K}} \\\\\n",
        "\\frac{\\partial S_{2}}{\\partial x_{1}} & \\frac{\\partial S_{2}}{\\partial x_{2}} & \\cdots & \\frac{\\partial S_{2}}{\\partial x_{K}} \\\\\n",
        "\\vdots & \\vdots & \\cdots & \\vdots \\\\\n",
        "\\frac{\\partial S_{K}}{\\partial x_{1}} & \\frac{\\partial S_{K}}{\\partial x_{2}} & \\cdots & \\frac{\\partial S_{K}}{\\partial x_{K}} \\\\\n",
        "\\end{bmatrix}\n",
        "$$"
      ],
      "metadata": {
        "id": "wRe-R2yR26MJ"
      }
    },
    {
      "cell_type": "markdown",
      "source": [
        "Let us compute $\\frac{\\partial S_{i}}{\\partial x_{j}}$ for some $i, j$:\n",
        "\n",
        "$$\\frac{\\partial S_{i}}{\\partial x_{j}} = \\dfrac{\\partial}{\\partial x_{j}}\\frac{e^{x_{i}}}{\\sum_{k=1}^{K} e^{x_k}}$$"
      ],
      "metadata": {
        "id": "UqFZ-nr22_2m"
      }
    },
    {
      "cell_type": "markdown",
      "source": [
        "Represent the function as quotient $f(x) = \\dfrac{g(x)}{h(x)}$ and use the formula to compute derivate:\n",
        "\n",
        "$$f^{'}(x) = \\frac{g^{'}(x)h(x) - h^{'}(x)g(x)}{\\left[h(x) \\right]^{2}}$$"
      ],
      "metadata": {
        "id": "FLzBRFhY3Htc"
      }
    },
    {
      "cell_type": "markdown",
      "source": [
        "Define $g_{i} = e^{x_{i}}$ and $h_{i} = \\sum_{k=1}^{K} e^{x_k}$."
      ],
      "metadata": {
        "id": "-tsUKqan3H4W"
      }
    },
    {
      "cell_type": "markdown",
      "source": [
        "Compute the derivative of $h_i$:\n",
        "$$\\frac{\\partial}{\\partial x_{j}} h_{i} = \\frac{\\partial}{\\partial x_{j}} \\sum_{k=1}^{K} e^{x_k} = \\sum_{k=1}^{K}  \\frac{\\partial}{\\partial x_{j}} e^{x_k} = e^{x_{j}}$$"
      ],
      "metadata": {
        "id": "10oVOHEf3XL0"
      }
    },
    {
      "cell_type": "markdown",
      "source": [
        "Compute the derivative of $g_i$:\n",
        "$$\\frac{\\partial}{\\partial x_j}g_i = \\frac{\\partial}{\\partial x_j} e^{x_i} = e^{x_i}[i = j]$$"
      ],
      "metadata": {
        "id": "l3mKIJBA5mGA"
      }
    },
    {
      "cell_type": "markdown",
      "source": [
        "Put it all together for $i = j$:\n",
        "\n",
        "$$\\begin{split}\n",
        "\\dfrac{\\partial \\frac{e^{x_{i}}}{\\sum_{k=1}^{K} e^{x_k}} }{\\partial x_{j}} &= \\text{your calculations here}\n",
        "\\end{split}$$"
      ],
      "metadata": {
        "id": "VRLhVKt33gg7"
      }
    },
    {
      "cell_type": "markdown",
      "source": [
        "Put it all together for $i \\neq j$:\n",
        "\n",
        "\\begin{split}\n",
        "\\dfrac{\\partial \\frac{e^{x_{i}}}{\\sum_{k=1}^{K} e^{x_k}} }{\\partial x_{j}} &= \\text{your calculations here}\n",
        "\\end{split}"
      ],
      "metadata": {
        "id": "HUMRGVMM6nxd"
      }
    },
    {
      "cell_type": "markdown",
      "source": [
        "Recall that $S_i = \\frac{e^{x_i}}{\\sum_{k=1}^K e^{x_k}}$, we obtain:"
      ],
      "metadata": {
        "id": "mYzvQ_UT6PIX"
      }
    },
    {
      "cell_type": "markdown",
      "source": [
        "$\\frac{\\partial S_{i}}{\\partial x_{j}}$ = \\begin{cases}\n",
        "         S_{i} (1-S_{j}) & \\mbox{if $i = j$}\\\\\n",
        "        -S_{j}S_{i} & \\mbox{if $i \\neq j$}\\end{cases}"
      ],
      "metadata": {
        "id": "v_hWFSiT3kJR"
      }
    },
    {
      "cell_type": "markdown",
      "source": [
        "**Part 2: Derivative of Cross-Entropy Loss**"
      ],
      "metadata": {
        "id": "pC1K9bEu6-Iv"
      }
    },
    {
      "cell_type": "markdown",
      "source": [
        "Multi-class cross-entropy is given by:\n",
        "\n",
        "$$L = - \\frac{1}{N} \\sum_{n=1}^{N}  \\sum_{j=1}^{K} \\left[y_{nj} \\log (p_{nj}) \\right],$$\n",
        "\n",
        "and for one instance:\n",
        "\n",
        "$$l = - \\sum_{j}^{K} \\left[y_{j} \\log (p_{j}) \\right],$$\n",
        "\n",
        "where $p_{j} = \\text{softmax}(o_{j})$, $o_j$ - logit."
      ],
      "metadata": {
        "id": "7MFL7ZBg7Chd"
      }
    },
    {
      "cell_type": "markdown",
      "source": [
        "Compute the loss derivative w.r.t. logits. (Hint: split the sum into two sums for $i=j$ and $i \\neq j$)\n",
        "$$\\begin{split}\n",
        "\\frac{\\partial}{\\partial o_{i}} l &= \\text{your calculations here}\n",
        "\\end{split}$$"
      ],
      "metadata": {
        "id": "GsdppSC37zUZ"
      }
    },
    {
      "cell_type": "markdown",
      "metadata": {
        "id": "XHfMOLof3A2N"
      },
      "source": [
        "# Module 2: Time Series Forecasting: FTSE Closing Prices\n",
        "\n",
        "**Objective:**\n",
        "1. Explore different time series forecasting approaches (AR, RNN, LSTM)\n",
        "2. Implement models using PyTorch\n",
        "3. Compare model performance on FTSE data\n",
        "4. Analyze which approach best predicts recent significant drop due to the recent trade war\n",
        "\n",
        "**Data**: FTSE100 closing prices for last month  from Yahoo!"
      ]
    },
    {
      "cell_type": "markdown",
      "metadata": {
        "id": "yjXhRp7q_a53"
      },
      "source": [
        "## Prerequisites"
      ]
    },
    {
      "cell_type": "code",
      "execution_count": null,
      "metadata": {
        "colab": {
          "background_save": true
        },
        "id": "s7Mp_ZycAB4R"
      },
      "outputs": [],
      "source": [
        "# Libs\n",
        "import numpy as np\n",
        "import pandas as pd\n",
        "import matplotlib.pyplot as plt\n",
        "from datetime import datetime\n",
        "import torch\n",
        "import torch.nn as nn\n",
        "import torch.optim as optim\n",
        "from torch.utils.data import Dataset, DataLoader\n",
        "from sklearn.preprocessing import MinMaxScaler\n",
        "from statsmodels.tsa.ar_model import AutoReg\n",
        "from sklearn.metrics import mean_squared_error, mean_absolute_error\n",
        "\n",
        "# Set random seeds for reproducibility\n",
        "torch.manual_seed(42)\n",
        "np.random.seed(42)\n",
        "\n",
        "# Set style for plots\n",
        "plt.style.use('seaborn-v0_8-darkgrid')\n",
        "plt.rcParams['figure.figsize'] = (14, 7)"
      ]
    },
    {
      "cell_type": "code",
      "execution_count": null,
      "metadata": {
        "colab": {
          "background_save": true
        },
        "id": "uzOhXCv4Apjb"
      },
      "outputs": [],
      "source": [
        "# Code for data downloading from git\n",
        "import requests\n",
        "\n",
        "def download_github_file(github_url: str, local_path: str) -> None:\n",
        "    raw_url = github_url\n",
        "    if \"github.com\" in github_url and \"raw.githubusercontent.com\" not in github_url:\n",
        "        # From this: https://github.com/username/repo/blob/branch/path/to/file\n",
        "        # To this: https://raw.githubusercontent.com/username/repo/branch/path/to/file\n",
        "        parts = github_url.split('/')\n",
        "        try:\n",
        "            blob_index = parts.index('blob')\n",
        "            username = parts[3]\n",
        "            repo = parts[4]\n",
        "            branch = parts[blob_index + 1]\n",
        "            file_path = '/'.join(parts[blob_index + 2:])\n",
        "            raw_url = f\"https://raw.githubusercontent.com/{username}/{repo}/{branch}/{file_path}\"\n",
        "        except ValueError:\n",
        "            pass\n",
        "\n",
        "    try:\n",
        "        response = requests.get(raw_url)\n",
        "        response.raise_for_status()\n",
        "    except requests.RequestException as e:\n",
        "        print(f\"Downloading error: {e}\")\n",
        "        return\n",
        "\n",
        "    with open(local_path, \"wb\") as f:\n",
        "        f.write(response.content)\n",
        "    print(\"Saved: \", local_path)\n"
      ]
    },
    {
      "cell_type": "code",
      "execution_count": null,
      "metadata": {
        "colab": {
          "background_save": true
        },
        "id": "kshgjv1UC1NV"
      },
      "outputs": [],
      "source": [
        "# Helper sequence function:\n",
        "def create_sequences(data, seq_length):\n",
        "    xs = []\n",
        "    ys = []\n",
        "\n",
        "    for i in range(len(data)-seq_length-1):\n",
        "        x = data[i:(i+seq_length)]\n",
        "        y = data[i+seq_length]\n",
        "        xs.append(x)\n",
        "        ys.append(y)\n",
        "\n",
        "    return np.array(xs), np.array(ys)"
      ]
    },
    {
      "cell_type": "code",
      "execution_count": null,
      "metadata": {
        "colab": {
          "background_save": true
        },
        "id": "5FpcSj2wOjYo"
      },
      "outputs": [],
      "source": [
        "# Plot training loss\n",
        "def plot_loss(train_losses, title):\n",
        "    plt.figure(figsize=(14, 7))\n",
        "    plt.plot(train_losses, label='Training Loss')\n",
        "    plt.title(title)\n",
        "    plt.xlabel('Epoch')\n",
        "    plt.ylabel('Loss')\n",
        "    plt.legend()\n",
        "    plt.show()\n",
        "\n",
        "\n",
        "# Plot predictions\n",
        "def plot_predictions(predictions, actual, title):\n",
        "    plt.figure(figsize=(14, 7))\n",
        "    plt.plot(data.index[train_size+SEQ_LENGTH:train_size+SEQ_LENGTH+len(y_test)],\n",
        "            actual, label='Actual')\n",
        "    plt.plot(data.index[train_size+SEQ_LENGTH:train_size+SEQ_LENGTH+len(y_test)],\n",
        "            predictions,\n",
        "            label=title.split('vs')[0])\n",
        "    plt.title(title)\n",
        "    plt.xlabel('Date')\n",
        "    plt.ylabel('Price')\n",
        "    plt.legend()\n",
        "    plt.show()\n",
        "\n",
        "# Calculate metrics\n",
        "def calculate_metrics(predictions, actual):\n",
        "    mse = mean_squared_error(actual, predictions)\n",
        "    mae = mean_absolute_error(actual, predictions)\n",
        "    return mse, mae, np.sqrt(mse)"
      ]
    },
    {
      "cell_type": "markdown",
      "metadata": {
        "id": "nodK5U24B25S"
      },
      "source": [
        "## Data Loading and Preprocessing\n",
        "**Data**: We can work with daily data and hourly data. You can solve this seminar for daily data and then try to re-run the code, but pick hourly data and check the difference.\n",
        "\n",
        "**Preprocessing**:\n",
        "We will normalize data, use dates as index and prepare it for common template for forecasting (create training sequences, splits, etc.)\n",
        "\n",
        "**Additionally**:\n",
        "Big drop at the end - current crisis.\n"
      ]
    },
    {
      "cell_type": "code",
      "execution_count": null,
      "metadata": {
        "colab": {
          "background_save": true
        },
        "id": "FPfexQ_NBJoH",
        "outputId": "66c27a2e-25e5-4257-c639-144fb89083ea"
      },
      "outputs": [
        {
          "name": "stdout",
          "output_type": "stream",
          "text": [
            "Saved:  /content/daily_data.csv\n",
            "Saved:  /content/hourly_data.csv\n",
            "                       Date   Close        Volume\n",
            "0  2024-04-04T23:00:00.000Z  7911.2  9.515091e+08\n",
            "1  2024-04-07T23:00:00.000Z  7943.5  8.473277e+08\n",
            "2  2024-04-08T23:00:00.000Z  7934.8  1.000931e+09\n",
            "3  2024-04-09T23:00:00.000Z  7961.2  1.207706e+09\n",
            "4  2024-04-10T23:00:00.000Z  7923.8  1.197884e+09\n"
          ]
        }
      ],
      "source": [
        "# Downloading data\n",
        "\n",
        "daily_data_url = \"https://github.com/NightForger/tmp_file_hosting/blob/main/FTSE%20(20250408%20_%2020250408)%20closing%201day.csv\"\n",
        "hourly_data_url = \"https://github.com/NightForger/tmp_file_hosting/blob/main/FTSE%20(20250408%20_%2020250408)%20closing%204%20hours.csv\"\n",
        "\n",
        "download_github_file(daily_data_url, \"/content/daily_data.csv\")\n",
        "download_github_file(hourly_data_url, \"/content/hourly_data.csv\")\n",
        "\n",
        "# Reading data\n",
        "daily_data = pd.read_csv('/content/daily_data.csv', thousands=',')\n",
        "hourly_data = pd.read_csv('/content/hourly_data.csv', thousands=',')\n",
        "\n",
        "# Pick on your own\n",
        "data = daily_data\n",
        "\n",
        "# Data print\n",
        "print(data.head())"
      ]
    },
    {
      "cell_type": "code",
      "execution_count": null,
      "metadata": {
        "colab": {
          "background_save": true
        },
        "id": "OZW7RGgoCnHO"
      },
      "outputs": [],
      "source": [
        "# Convert date column to datetime and set as index\n",
        "data['Date'] = pd.to_datetime(data['Date'])\n",
        "data.set_index('Date', inplace=True)\n",
        "\n",
        "# We'll use the 'Close' price for our forecasting\n",
        "close_prices = data['Close'].values.reshape(-1, 1)\n",
        "\n",
        "# Normalize the data to [0,1] range\n",
        "# We will need it for LSTM and RNN approaches (not for AR!)\n",
        "scaler = MinMaxScaler(feature_range=(0, 1))\n",
        "close_prices_scaled = scaler.fit_transform(close_prices)"
      ]
    },
    {
      "cell_type": "code",
      "execution_count": null,
      "metadata": {
        "colab": {
          "background_save": true
        },
        "id": "gLXoJHjVCZ-9",
        "outputId": "f53b9e63-5d4f-4b97-9446-aafc62643b6e"
      },
      "outputs": [
        {
          "data": {
            "image/png": "[encoded data removed]",
            "text/plain": [
              "<Figure size 1200x500 with 1 Axes>"
            ]
          },
          "metadata": {},
          "output_type": "display_data"
        },
        {
          "data": {
            "image/png": "[encoded data removed]",
            "text/plain": [
              "<Figure size 1200x500 with 1 Axes>"
            ]
          },
          "metadata": {},
          "output_type": "display_data"
        },
        {
          "name": "stdout",
          "output_type": "stream",
          "text": [
            "Training set size: 205\n",
            "Test set size: 52\n",
            "Test set covers from 2025-01-27 00:00:00+00:00 to 2025-04-07 23:00:00+00:00\n"
          ]
        }
      ],
      "source": [
        "# Plot the original data\n",
        "plt.figure(figsize=(12, 5))\n",
        "plt.plot(data.index, close_prices, label='FTSE Closing Price')\n",
        "plt.title('FTSE Closing Prices Over Time')\n",
        "plt.xlabel('Date')\n",
        "plt.ylabel('Price')\n",
        "plt.legend()\n",
        "plt.show()\n",
        "\n",
        "# Highlight recent significant drop\n",
        "recent_drop_start = pd.to_datetime(\"2025-03-01\").tz_localize('UTC')  # Make sure to use a specific time standard! Otherwise you'll have issues later if times mismatch!\n",
        "plt.figure(figsize=(12, 5))\n",
        "plt.plot(data.index, close_prices, label='FTSE Closing Price')\n",
        "plt.axvspan(pd.to_datetime(recent_drop_start), data.index[-1],\n",
        "            color='red', alpha=0.3, label='Recent Significant Drop')\n",
        "plt.title('FTSE Closing Prices with Recent Drop Highlighted')\n",
        "plt.xlabel('Date')\n",
        "plt.ylabel('Price')\n",
        "plt.legend()\n",
        "plt.show()\n",
        "\n",
        "# 0.8 to 0.2 as is usual\n",
        "train_size = int(len(close_prices_scaled) * 0.8)\n",
        "test_size = len(close_prices_scaled) - train_size\n",
        "train_data, test_data = close_prices_scaled[0:train_size], close_prices_scaled[train_size:]\n",
        "\n",
        "print(f\"Training set size: {len(train_data)}\")\n",
        "print(f\"Test set size: {len(test_data)}\")\n",
        "print(f\"Test set covers from {data.index[train_size]} to {data.index[-1]}\")"
      ]
    },
    {
      "cell_type": "code",
      "execution_count": null,
      "metadata": {
        "colab": {
          "background_save": true
        },
        "id": "v-GLJCZq4PsX",
        "outputId": "f180d89c-46a6-4d49-c4c7-0473419e2365"
      },
      "outputs": [
        {
          "name": "stdout",
          "output_type": "stream",
          "text": [
            "Training sequences shape: (174, 30, 1)\n",
            "Testing sequences shape: (21, 30, 1)\n"
          ]
        }
      ],
      "source": [
        "# Sequence length (time steps to look back)\n",
        "SEQ_LENGTH = 30\n",
        "\n",
        "# Create training sequences\n",
        "X_train, y_train = create_sequences(train_data, SEQ_LENGTH)\n",
        "X_test, y_test = create_sequences(test_data, SEQ_LENGTH)\n",
        "\n",
        "# Convert to PyTorch tensors\n",
        "X_train_tensor = torch.tensor(X_train, dtype=torch.float32)\n",
        "y_train_tensor = torch.tensor(y_train, dtype=torch.float32)\n",
        "X_test_tensor = torch.tensor(X_test, dtype=torch.float32)\n",
        "y_test_tensor = torch.tensor(y_test, dtype=torch.float32)\n",
        "\n",
        "print(f\"Training sequences shape: {X_train.shape}\")\n",
        "print(f\"Testing sequences shape: {X_test.shape}\")"
      ]
    },
    {
      "cell_type": "markdown",
      "metadata": {
        "id": "nChVcso_4XhR"
      },
      "source": [
        "## Model 1: Autoregressive (AR) Model\n",
        "Let's start with a traditional AR model as our baseline."
      ]
    },
    {
      "cell_type": "markdown",
      "metadata": {
        "id": "YpiqAhF4S4Vg"
      },
      "source": [
        "### Important theory\n",
        "\n",
        "In many time series forecasting problems, models such as the **Autoregressive (AR)** model require the input series to be **stationary**. A stationary time series has statistical properties (mean, variance, and autocorrelation) that do not change over time. Many forecasting methods, statistical tests, and confidence intervals rely on the assumption of stationarity.\n",
        "\n",
        "### Why Make a Time Series Stationary?\n",
        "\n",
        "- **Stability:** Stationary series are easier to model because the relationships between past and future values remain consistent over time.\n",
        "- **Assumption of Models:** Many classical statistical models, including AR and ARIMA, assume stationarity to ensure that their parameters remain constant.\n",
        "\n",
        "### Differencing\n",
        "\n",
        "One common method to transform a non-stationary time series into a stationary one is **differencing**. The first-order difference of a time series $X_t$ is defined as:\n",
        "\n",
        "$$\n",
        "\\Delta X_t = X_t - X_{t-1}\n",
        "$$\n",
        "\n",
        "This process helps remove trends and stabilize the mean of the series. For example, if the original series has an upward trend, the differenced series will tend to fluctuate around zero.\n",
        "\n",
        "### Integration (Reconstruction)\n",
        "\n",
        "After forecasting the differenced series with the AR model, we need to reconstruct or integrate these predictions back to the original scale. If $\\Delta \\hat{X}_t$ represents the predicted difference at time $t$, the forecasted level value $\\hat{X}_t$ is given by:\n",
        "\n",
        "$$\n",
        "\\hat{X}_t = X_{t-1} + \\Delta \\hat{X}_t\n",
        "$$\n",
        "\n",
        "Here, $X_{t-1}$ is the last observed value before the prediction, and the integration is performed recursively for each forecasted period.\n",
        "\n",
        "### Step-by-Step Process Explained\n",
        "\n",
        "1. **Inverse Transformation:**  \n",
        "   The scaled training and testing data are first converted back to their original price scales using the inverse transformation of the scaling function (e.g., a MinMax scaler).\n",
        "\n",
        "2. **Differencing:**  \n",
        "   We perform a first-order differencing on the training data:\n",
        "   \n",
        "   $$\n",
        "   train_{diff}[t] = raw_{train}[t+1] - raw_{train}[t]\n",
        "   $$\n",
        "   \n",
        "   This helps remove trends and makes the series stationary.\n",
        "\n",
        "3. **Fitting the AR Model:**  \n",
        "   An AR model is then fitted on the differenced (stationary) series using a certain number of lags (e.g., SEQ_LENGTH). The model attempts to capture the linear dependency in the stationary series.\n",
        "\n",
        "4. **Forecasting the Differences:**  \n",
        "   Using the fitted AR model, forecasts for the differenced series are generated for the test period.\n",
        "\n",
        "5. **Reconstructing the Level Values (Integration):**  \n",
        "   Starting with the last known value of the original training series, we iteratively add the predicted differences to reconstruct the forecasted level values:\n",
        "   \n",
        "   $$\n",
        "   \\hat{X}_{t+1} = X_{t} + \\Delta \\hat{X}_{t+1}\n",
        "   $$\n",
        "   \n",
        "   This step transforms the differenced predictions back into the original units (e.g., price levels).\n",
        "\n",
        "6. **Evaluation and Visualization:**  \n",
        "   The final step involves comparing the forecasted values with the **actual** observed values on the original scale by computing error metrics such as Mean Squared Error (MSE), Mean Absolute Error (MAE), and Root Mean Squared Error (RMSE), as well as plotting the results to visually inspect the forecast performance.\n",
        "\n",
        "This comprehensive approach ensures that the AR model is applied to a stationary series—improving its performance and interpretability—while still enabling predictions in the original data scale.\n"
      ]
    },
    {
      "cell_type": "markdown",
      "source": [
        "### Task:\n",
        "Fill in the blanks \\<YOUR_CODE\\> with a real code.\n",
        "\n",
        "**Helpful links**:\n",
        "1. https://www.statsmodels.org/dev/generated/statsmodels.tsa.ar_model.AutoReg.html"
      ],
      "metadata": {
        "id": "wQACCeLjIWkf"
      }
    },
    {
      "cell_type": "code",
      "execution_count": null,
      "metadata": {
        "colab": {
          "background_save": true
        },
        "id": "7ZjRcStSdTJS"
      },
      "outputs": [],
      "source": [
        "# At first we will check basic AR approach\n",
        "# In the next cell we will try AR on stationary data with rolling forecasting (next theory block)\n",
        "\n",
        "# Check the huge difference in the results"
      ]
    },
    {
      "cell_type": "code",
      "execution_count": null,
      "metadata": {
        "colab": {
          "background_save": true
        },
        "id": "q0haImmwc45S"
      },
      "outputs": [],
      "source": [
        "# Basic AR\n",
        "train_data_flat = scaler.inverse_transform(train_data).reshape(-1)\n",
        "\n",
        "# Fit AR model\n",
        "ar_model = AutoReg(<YOUR_CODE>)\n",
        "ar_model_fitted = ar_model.fit()\n",
        "\n",
        "# Make predictions on test data\n",
        "# Need to use the last SEQ_LENGTH values from training set to start prediction\n",
        "history = list(train_data_flat[-SEQ_LENGTH:])\n",
        "predictions = []\n",
        "\n",
        "for t in range(len(test_data)):\n",
        "    # Predict next value\n",
        "    # Remember that you want predict only one next value on each iteration\n",
        "    yhat = ar_model_fitted.predict(start=<YOUR_CODE>, end=<YOUR_CODE>)\n",
        "    predictions.append(yhat[0])\n",
        "    # Update history with true value (simulating real-world prediction)\n",
        "    history.append(test_data[t][0])\n",
        "\n",
        "# Calculate metrics\n",
        "mse_ar = mean_squared_error(test_data, predictions)\n",
        "mae_ar = mean_absolute_error(test_data, predictions)\n",
        "\n",
        "print(f\"AR({SEQ_LENGTH}) Model:\")\n",
        "print(f\"MSE: {mse_ar:.6f}\")\n",
        "print(f\"MAE: {mae_ar:.6f}\")\n",
        "print(f\"RMSE: {np.sqrt(mse_ar):.6f}\")\n",
        "\n",
        "# Plot predictions\n",
        "# Plot predictions (corrected)\n",
        "plt.figure(figsize=(14, 7))\n",
        "\n",
        "# Use the length of PREDICTIONS, not test_data\n",
        "plot_dates = data.index[-len(predictions):]  # Get dates corresponding to predictions\n",
        "\n",
        "plt.plot(plot_dates, scaler.inverse_transform(test_data[-len(predictions):]),\n",
        "         label='Actual')\n",
        "plt.plot(plot_dates,\n",
        "         np.array(predictions).reshape(-1, 1),\n",
        "         label=f'AR({SEQ_LENGTH}) Prediction')\n",
        "\n",
        "plt.title('AR Model Predictions vs Actual')\n",
        "plt.xlabel('Date')\n",
        "plt.ylabel('Price')\n",
        "plt.legend()\n",
        "plt.show()"
      ]
    },
    {
      "cell_type": "code",
      "execution_count": null,
      "metadata": {
        "colab": {
          "background_save": true
        },
        "id": "zvuqTcoJ4ZuB"
      },
      "outputs": [],
      "source": [
        "# AR on stationary data with rolling window\n",
        "\n",
        "# First, we convert the data back to its original scale:\n",
        "raw_train = scaler.inverse_transform(train_data).reshape(-1)\n",
        "raw_test = scaler.inverse_transform(test_data).reshape(-1)\n",
        "\n",
        "# --- STEP 1: Transform the training series to a stationary series using first-order differencing ---\n",
        "# First-order differencing: diff_t = raw_train[t] - raw_train[t-1]\n",
        "train_diff = <YOUR_CODE>  # The differenced series, one element shorter than raw_train\n",
        "\n",
        "# Set the lags parameter (e.g., SEQ_LENGTH)\n",
        "lags = SEQ_LENGTH\n",
        "\n",
        "# --- ROLLING FORECAST APPROACH ---\n",
        "predictions = []  # To store level forecasts\n",
        "\n",
        "# Convert differenced training data to a list to build our history for the rolling forecast\n",
        "history_diff = list(train_diff)\n",
        "\n",
        "# For the integration step, initialize the last known level value from the training series\n",
        "last_value = raw_train[-1]\n",
        "\n",
        "# Loop over each step in the test data to perform rolling forecast:\n",
        "for t in range(len(raw_test)):\n",
        "    # 1. Fit the AR model on the current history of differenced data\n",
        "    model = AutoReg(<YOUR_CODE>)\n",
        "    model_fit = model.fit()\n",
        "\n",
        "    # 2. Predict the next differenced value (one-step ahead)\n",
        "    yhat_diff = model_fit.predict(<YOUR_CODE>)[0]\n",
        "\n",
        "    # 3. Reconstruct the level forecast by adding the predicted difference to the last known level\n",
        "    next_value = last_value + yhat_diff\n",
        "    predictions.append(next_value)\n",
        "\n",
        "    # 4. Get the actual difference using the observed test value\n",
        "    # This simulates receiving the true observation in a real-world scenario\n",
        "    new_diff = raw_test[t] - last_value\n",
        "\n",
        "    # 5. Update the history with the actual observed difference for the next iteration\n",
        "    history_diff.append(new_diff)\n",
        "\n",
        "    # 6. Update the last known level; here we use the actual test value (simulate real-world update)\n",
        "    last_value = raw_test[t]\n",
        "\n",
        "# --- STEP 2: Compute error metrics (on the original price scale) ---\n",
        "mse_ar = mean_squared_error(raw_test, predictions)\n",
        "mae_ar = mean_absolute_error(raw_test, predictions)\n",
        "\n",
        "print(f\"Rolling AR({lags}) Model on Differenced (Stationary) Data:\")\n",
        "print(f\"MSE: {mse_ar:.6f}\")\n",
        "print(f\"MAE: {mae_ar:.6f}\")\n",
        "print(f\"RMSE: {np.sqrt(mse_ar):.6f}\")\n",
        "\n",
        "# --- STEP 3: Visualize the predictions ---\n",
        "\n",
        "plt.figure(figsize=(14, 7))\n",
        "plot_dates = data.index[-len(predictions):]  # Dates corresponding to forecasted points\n",
        "\n",
        "plt.plot(plot_dates, raw_test, label='Actual')\n",
        "plt.plot(plot_dates, predictions, label=f'Rolling AR({lags}) Prediction')\n",
        "plt.title('Rolling AR Model Predictions vs Actual (After Differencing)')\n",
        "plt.xlabel('Date')\n",
        "plt.ylabel('Price')\n",
        "plt.legend()\n",
        "plt.show()"
      ]
    },
    {
      "cell_type": "markdown",
      "metadata": {
        "id": "YBmkA1gI4fGN"
      },
      "source": [
        "## Simple RNN\n",
        "### Theory about Rolling Window Forecast\n",
        "\n",
        "In a real-world forecasting scenario, we often update our predictions iteratively. This process is called **rolling forecasting** (or **walk-forward validation**). With a rolling window approach, the model generates a forecast for the next time step, then the window is updated with the latest observed value before predicting the next time step. This simulates live forecasting and adapts to new information.\n",
        "\n",
        "### Rolling Forecast Process\n",
        "\n",
        "Assume we have a time series $X = \\{x_1, x_2, \\ldots, x_T\\}$ and a forecast horizon $H$. We train our RNN on sequences of length $L$ (the **window size**). For forecasting, we perform the following steps:\n",
        "\n",
        "1. **Initialization:**\n",
        "   - Set the initial window using the last $L$ observations from the training set:\n",
        "$$\n",
        "W_0 = \\{x_{T-L+1}, x_{T-L+2}, \\ldots, x_T\\}\n",
        "$$\n",
        "   \n",
        "2. **Forecasting Loop:**\n",
        "   For each forecast step $t = 1, 2, \\ldots, H$:\n",
        "   - Use the current window $W_{t-1}$ as input to the RNN to predict the next value $\\hat{x}_{T+t}$:\n",
        "$$\n",
        "\\hat{x}_{T+t} = f(W_{t-1})\n",
        "$$\n",
        "     where f denotes the RNN model.\n",
        "   - Update the window by removing the oldest observation and appending the new observed value $x_{T+t}$ (if available) or the forecast $\\hat{x}_{T+t}$:\n",
        "$$\n",
        "W_t = \\{W_{t-1}[2:],\\, x_{T+t} \\text{ (or } \\hat{x}_{T+t} \\text{)}\\}\n",
        "$$\n",
        "   \n",
        "### Forecasting on Stationary Data\n",
        "\n",
        "When the original time series is non-stationary (i.e., its statistical properties change over time), we often transform it to a stationary series using **first-order differencing**:\n",
        "$$\n",
        "\\Delta x_t = x_t - x_{t-1}\n",
        "$$\n",
        "A model (such as an RNN) can be trained on the differenced series. After predicting the differenced values, the original level forecast is reconstructed by **integration**:\n",
        "$$\n",
        "\\hat{x}_t = x_{t-1} + \\Delta \\hat{x}_t\n",
        "$$\n",
        "\n",
        "### Summary of Key Formulas in this module\n",
        "\n",
        "- **First-order Differencing:**\n",
        "  $$\n",
        "  \\Delta x_t = x_t - x_{t-1}\n",
        "  $$\n",
        "  \n",
        "- **Level Forecast Reconstruction:**\n",
        "  $$\n",
        "  \\hat{x}_t = x_{t-1} + \\Delta \\hat{x}_t\n",
        "  $$\n",
        "  \n",
        "- **Rolling Window Update:**\n",
        "  $$\n",
        "  W_t = \\{W_{t-1}[2:],\\, x_{T+t} \\text{ (or } \\hat{x}_{T+t} \\text{)}\\}\n",
        "  $$\n",
        "\n",
        "This approach ensures that the forecasting model constantly adapts to the latest observations, improving its ability to react to changes in data trends—especially critical in financial or volatile time series.\n"
      ]
    },
    {
      "cell_type": "markdown",
      "source": [
        "### Task:\n",
        "Fill in the blanks \\<YOUR_CODE\\> with a real code. We made less blanks, but more space for experiments. Try using useful links.\n",
        "\n",
        "**Useful links**:\n",
        "1. https://pytorch.org/docs/stable/generated/torch.nn.RNN.html\n"
      ],
      "metadata": {
        "id": "eqH68LMAJuDw"
      }
    },
    {
      "cell_type": "code",
      "execution_count": null,
      "metadata": {
        "colab": {
          "background_save": true
        },
        "id": "qflK51oXUU7O"
      },
      "outputs": [],
      "source": [
        "# --- Define the RNN model ---\n",
        "class RNNModel(nn.Module):\n",
        "    def __init__(self, input_size=1, hidden_size=50, output_size=1):\n",
        "        super(RNNModel, self).__init__()\n",
        "        self.hidden_size = hidden_size\n",
        "        self.rnn = <YOUR_CODE> # batch_first=True\n",
        "        self.linear = nn.Linear(hidden_size, output_size)\n",
        "\n",
        "    def forward(self, x):\n",
        "        # Initialize hidden state\n",
        "        h0 = torch.zeros(1, x.size(0), self.hidden_size).requires_grad_()\n",
        "        # Forward pass through RNN\n",
        "        out, _ = <YOUR_CODE>\n",
        "        # Decode the hidden state of the last time step\n",
        "        out = self.linear(out[:, -1, :])\n",
        "        return out\n",
        "\n",
        "# --- Training the RNN on original scaled data ---\n",
        "rnn_model = RNNModel()\n",
        "criterion = nn.MSELoss()\n",
        "optimizer = optim.Adam(rnn_model.parameters(), lr=<YOUR_CODE>)\n",
        "\n",
        "BATCH_SIZE = 16\n",
        "EPOCHS = <YOUR_CODE> # Try to experiment\n",
        "\n",
        "# Create DataLoader for training data\n",
        "train_dataset = torch.utils.data.TensorDataset(X_train_tensor, y_train_tensor)\n",
        "train_loader = torch.utils.data.DataLoader(train_dataset, batch_size=BATCH_SIZE, shuffle=True)\n",
        "\n",
        "train_losses = []\n",
        "for epoch in range(EPOCHS):\n",
        "    rnn_model.train()  # set training mode\n",
        "    for batch_x, batch_y in train_loader:\n",
        "        optimizer.zero_grad()\n",
        "        outputs = <YOUR_CODE>\n",
        "        loss = criterion(outputs, batch_y)\n",
        "        loss.backward()\n",
        "        optimizer.step()\n",
        "    train_losses.append(loss.item())\n",
        "    if (epoch+1) % 10 == 0:\n",
        "        print(f'Epoch [{epoch+1}/{EPOCHS}], Loss: {loss.item():.6f}')\n",
        "\n",
        "# Plot the training loss\n",
        "plt.figure(figsize=(10,5))\n",
        "plt.plot(train_losses, label='Training Loss')\n",
        "plt.xlabel('Epoch')\n",
        "plt.ylabel('Loss')\n",
        "plt.title('RNN Training Loss (Original Data)')\n",
        "plt.legend()\n",
        "plt.show()\n",
        "\n",
        "# --- Rolling Forecast on Original Data ---\n",
        "raw_train = train_data.reshape(-1)\n",
        "raw_test = test_data.reshape(-1)\n",
        "\n",
        "# Set the window size (should be equal to SEQ_LENGTH)\n",
        "window_size = X_train_tensor.shape[1]  # или window_size = SEQ_LENGTH\n",
        "\n",
        "# Use last 'window_size' points from raw_train as initial seed for the forecast:\n",
        "current_window = raw_train[-window_size:].copy()\n",
        "rolling_predictions = []\n",
        "\n",
        "rnn_model.eval()\n",
        "with torch.no_grad():\n",
        "    # Loop over test points to simulate real-time forecasting:\n",
        "    for t in range(len(raw_test)):\n",
        "        # Prepare input: reshape -> (batch=1, sequence_length, input_dim=1)\n",
        "        input_seq = torch.tensor(current_window, dtype=torch.float32).unsqueeze(0).unsqueeze(2)\n",
        "        pred = <YOUR_CODE>\n",
        "        pred_value = pred.item()\n",
        "        rolling_predictions.append(pred_value)\n",
        "        # Update current window with true observed value from raw_test\n",
        "        true_value = raw_test[t]\n",
        "        current_window = np.append(current_window[1:], true_value)\n",
        "\n",
        "# Compute error metrics (on original scale)\n",
        "rnn_rolling_predictions = scaler.inverse_transform([rolling_predictions])[0]\n",
        "raw_test = scaler.inverse_transform(test_data).reshape(-1)\n",
        "\n",
        "mse_rolling = mean_squared_error(raw_test, rnn_rolling_predictions)\n",
        "mae_rolling = mean_absolute_error(raw_test, rnn_rolling_predictions)\n",
        "rmse_rolling = np.sqrt(mse_rolling)\n",
        "print(\"Rolling Forecast RNN (Original Data):\")\n",
        "print(f\"MSE: {mse_rolling:.6f}\")\n",
        "print(f\"MAE: {mae_rolling:.6f}\")\n",
        "print(f\"RMSE: {rmse_rolling:.6f}\")\n",
        "\n",
        "# Plot predictions vs actual values\n",
        "plt.figure(figsize=(14,7))\n",
        "plot_dates = data.index[-len(raw_test):]  # даты для test данных\n",
        "plt.plot(plot_dates, raw_test, label='Actual')\n",
        "plt.plot(plot_dates, rnn_rolling_predictions, label='Rolling RNN Predictions')\n",
        "plt.xlabel('Date')\n",
        "plt.ylabel('Price')\n",
        "plt.title('Rolling Forecast RNN Predictions vs Actual (Original Data)')\n",
        "plt.legend()\n",
        "plt.show()\n"
      ]
    },
    {
      "cell_type": "markdown",
      "metadata": {
        "id": "b7wo4CPQ4nLO"
      },
      "source": [
        "## Model 3: LSTM\n",
        "Finally, let's implement an LSTM model, which is often more effective for time series forecasting."
      ]
    },
    {
      "cell_type": "markdown",
      "source": [
        "### Task:\n",
        "Fill in the blanks \\<YOUR_CODE\\> with a real code. We made less blanks, but more space for experiments. Try using useful links.\n",
        "\n",
        "**Useful links**:\n",
        "1. https://pytorch.org/docs/stable/generated/torch.nn.LSTM.html\n"
      ],
      "metadata": {
        "id": "QThndMulKuiE"
      }
    },
    {
      "cell_type": "code",
      "execution_count": null,
      "metadata": {
        "colab": {
          "background_save": true
        },
        "id": "nYfMI85S4vJr"
      },
      "outputs": [],
      "source": [
        "class LSTMModel(nn.Module):\n",
        "    def __init__(self, input_size=1, hidden_size=50, output_size=1, num_layers=2):\n",
        "        super(LSTMModel, self).__init__()\n",
        "        self.hidden_size = hidden_size\n",
        "        self.num_layers = num_layers\n",
        "        self.lstm = <YOUR_CODE> # batch_first=True\n",
        "        self.linear = nn.Linear(hidden_size, output_size)\n",
        "\n",
        "    def forward(self, x):\n",
        "        # Initialize hidden state and cell state\n",
        "        h0 = torch.zeros(self.num_layers, x.size(0), self.hidden_size).requires_grad_()\n",
        "        c0 = torch.zeros(self.num_layers, x.size(0), self.hidden_size).requires_grad_()\n",
        "        # Forward pass through LSTM\n",
        "        out, _ = <YOUR_CODE>\n",
        "        # Decode the hidden state of the last time step\n",
        "        out = self.linear(out[:, -1, :])\n",
        "        return out\n",
        "\n",
        "# --- Training LSTM on Original (Scaled) Data ---\n",
        "lstm_model = LSTMModel(num_layers=2)\n",
        "criterion = nn.MSELoss()\n",
        "optimizer = optim.Adam(lstm_model.parameters(), lr=0.001)\n",
        "\n",
        "BATCH_SIZE = 16\n",
        "EPOCHS =  <YOUR_CODE> # Try to experiment\n",
        "\n",
        "# Create DataLoader for training data\n",
        "train_dataset = torch.utils.data.TensorDataset(X_train_tensor, y_train_tensor)\n",
        "train_loader = torch.utils.data.DataLoader(train_dataset, batch_size=BATCH_SIZE, shuffle=True)\n",
        "\n",
        "train_losses_lstm = []\n",
        "for epoch in range(EPOCHS):\n",
        "    lstm_model.train()\n",
        "    for batch_x, batch_y in train_loader:\n",
        "        optimizer.zero_grad()\n",
        "        outputs = <YOUR_CODE>\n",
        "        loss = criterion(outputs, batch_y)\n",
        "        loss.backward()\n",
        "        optimizer.step()\n",
        "    train_losses_lstm.append(loss.item())\n",
        "    if (epoch+1) % 10 == 0:\n",
        "        print(f'Epoch [{epoch+1}/{EPOCHS}], Loss: {loss.item():.6f}')\n",
        "\n",
        "# Plot training loss\n",
        "plt.figure(figsize=(10,5))\n",
        "plt.plot(train_losses_lstm, label='Training Loss')\n",
        "plt.xlabel('Epoch')\n",
        "plt.ylabel('Loss')\n",
        "plt.title('LSTM Training Loss (Original Data)')\n",
        "plt.legend()\n",
        "plt.show()\n",
        "\n",
        "# --- Rolling Forecast on Original Data ---\n",
        "# Convert the scaled data back to the original scale\n",
        "raw_train = train_data.reshape(-1)\n",
        "raw_test = test_data.reshape(-1)\n",
        "\n",
        "\n",
        "# Set the window size (should be equal to SEQ_LENGTH)\n",
        "window_size = SEQ_LENGTH  # or window_size = X_train_tensor.shape[1]\n",
        "\n",
        "# Initialize the window with the last 'window_size' points from raw_train\n",
        "current_window = raw_train[-window_size:].copy()\n",
        "rolling_predictions = []\n",
        "\n",
        "lstm_model.eval()\n",
        "with torch.no_grad():\n",
        "    # Loop over the test set to simulate real-time forecasting\n",
        "    for t in range(len(raw_test)):\n",
        "        # Prepare the input: reshape to (1, window_size, 1)\n",
        "        input_seq = torch.tensor(current_window, dtype=torch.float32).unsqueeze(0).unsqueeze(2)\n",
        "        pred = <YOUR_CODE>\n",
        "        pred_value = pred.item()\n",
        "        rolling_predictions.append(pred_value)\n",
        "        # Update the window with the true observed value from raw_test\n",
        "        true_value = raw_test[t]\n",
        "        current_window = np.append(current_window[1:], true_value)\n",
        "\n",
        "# Compute error metrics on the original scale\n",
        "lstm_rolling_predictions = scaler.inverse_transform([rolling_predictions])[0]\n",
        "raw_test = scaler.inverse_transform(test_data).reshape(-1)\n",
        "\n",
        "mse_lstm = mean_squared_error(raw_test, lstm_rolling_predictions)\n",
        "mae_lstm = mean_absolute_error(raw_test, lstm_rolling_predictions)\n",
        "rmse_lstm = np.sqrt(mse_lstm)\n",
        "\n",
        "print(\"Rolling Forecast LSTM (Original Data):\")\n",
        "print(f\"MSE: {mse_lstm:.6f}\")\n",
        "print(f\"MAE: {mae_lstm:.6f}\")\n",
        "print(f\"RMSE: {rmse_lstm:.6f}\")\n",
        "\n",
        "# Plot predictions vs actual values\n",
        "plt.figure(figsize=(14,7))\n",
        "plot_dates = data.index[-len(raw_test):]  # dates corresponding to the test data\n",
        "plt.plot(plot_dates, raw_test, label='Actual')\n",
        "plt.plot(plot_dates, lstm_rolling_predictions, label='Rolling LSTM Predictions')\n",
        "plt.xlabel('Date')\n",
        "plt.ylabel('Price')\n",
        "plt.title('Rolling Forecast LSTM Predictions vs Actual (Original Data)')\n",
        "plt.legend()\n",
        "plt.show()\n"
      ]
    },
    {
      "cell_type": "markdown",
      "metadata": {
        "id": "3Xa66DZk4yGo"
      },
      "source": [
        "## Model Comparison and Analysis\n",
        "Now let's compare all three models and analyze their performance, particularly during the recent significant drop."
      ]
    },
    {
      "cell_type": "code",
      "execution_count": null,
      "metadata": {
        "colab": {
          "background_save": true
        },
        "id": "BvkTzzkM4y3N"
      },
      "outputs": [],
      "source": [
        "correct_length = len(y_test)  # Get reference length\n",
        "\n",
        "actual_prices = scaler.inverse_transform(y_test)\n",
        "ar_prices = np.array(predictions).reshape(-1, 1)[-correct_length:]    # Trim AR predictions to match correct_length\n",
        "rnn_prices = np.array(rnn_rolling_predictions)[-correct_length:]      # Trim RNN predictions\n",
        "lstm_prices = np.array(lstm_rolling_predictions)[-correct_length:]    # Trim LSTM predictions\n",
        "\n",
        "# Create date range for plotting (aligned to correct_length)\n",
        "plot_dates = data.index[-correct_length:]\n",
        "\n",
        "# Zoom in on recent drop (now aligned)\n",
        "drop_start_idx = np.where(plot_dates >= pd.to_datetime(recent_drop_start))[0][0]\n",
        "\n",
        "plt.figure(figsize=(14, 7))\n",
        "plt.plot(plot_dates[drop_start_idx:], actual_prices[drop_start_idx:], label='Actual Prices', linewidth=2)\n",
        "plt.plot(plot_dates[drop_start_idx:], ar_prices[drop_start_idx:], label=f'AR({SEQ_LENGTH})', linestyle='--')\n",
        "plt.plot(plot_dates[drop_start_idx:], rnn_prices[drop_start_idx:], label='RNN', linestyle='--')\n",
        "plt.plot(plot_dates[drop_start_idx:], lstm_prices[drop_start_idx:], label='LSTM', linestyle='--')\n",
        "plt.title('Model Performance During Recent Significant Drop')\n",
        "plt.xlabel('Date')\n",
        "plt.ylabel('Price')\n",
        "plt.legend()\n",
        "plt.show()\n",
        "\n",
        "# Calculate metrics for the drop period only\n",
        "drop_actual = actual_prices[drop_start_idx:]\n",
        "drop_ar = ar_prices[drop_start_idx:]\n",
        "drop_rnn = rnn_prices[drop_start_idx:]\n",
        "drop_lstm = lstm_prices[drop_start_idx:]\n",
        "\n",
        "mse_ar_drop = mean_squared_error(drop_actual, drop_ar)\n",
        "mae_ar_drop = mean_absolute_error(drop_actual, drop_ar)\n",
        "\n",
        "mse_rnn_drop = mean_squared_error(drop_actual, drop_rnn)\n",
        "mae_rnn_drop = mean_absolute_error(drop_actual, drop_rnn)\n",
        "\n",
        "mse_lstm_drop = mean_squared_error(drop_actual, drop_lstm)\n",
        "mae_lstm_drop = mean_absolute_error(drop_actual, drop_lstm)\n",
        "\n",
        "print(\"\\nPerformance During Recent Drop:\")\n",
        "print(f\"AR({SEQ_LENGTH}) - MSE: {mse_ar_drop:.4f}, MAE: {mae_ar_drop:.4f}\")\n",
        "print(f\"RNN - MSE: {mse_rnn_drop:.4f}, MAE: {mae_rnn_drop:.4f}\")\n",
        "print(f\"LSTM - MSE: {mse_lstm_drop:.4f}, MAE: {mae_lstm_drop:.4f}\")\n"
      ]
    },
    {
      "cell_type": "markdown",
      "metadata": {
        "id": "Ncx8xKLUb7TH"
      },
      "source": [
        "## To think about (at home).\n",
        "1. We mentioned that usually LSTM is showing better then RNN. Can you find the trick, why in this example RNN is showing better and \"fix\" LSTM? (Hint: you need to change ONE digit in whole code)\n",
        "2. You can see that AR is showing much better than our RNN and LSTM. Why? Do you remember what we did in AR approach and haven`t done at neural nets approach?"
      ]
    },
    {
      "cell_type": "markdown",
      "metadata": {
        "id": "jQ__uJO77w5C"
      },
      "source": [
        "# Module 3: Sequence-to-Sequence Learning for Machine Translation  \n",
        "**Seminar workflow:**\n",
        "1. **Data Download and Preparation:**  \n",
        "   * We use the dataset from [manythings.org/anki](https://www.manythings.org/anki/). In this example – a dataset for Russian-English sentence pairs. But you can choose any other pair of languages in the link above.\n",
        "   * Tokenization, vocabulary construction, converting sequences into numerical representations, and padding.\n",
        "2. **Defining Seq2Seq model with RNN, LSTM, GRU modules.**\n",
        "3. **Model training.**\n",
        "4. **Perfomance comparison on different splits.**\n",
        "\n",
        "**Important**:<br>\n",
        "Training a Seq2Seq model for the MT task is a very labor-intensive process that requires a large amount of data and time. In this seminar, we will build the basic pipeline for each of the models, but run it for only a few epochs to ensure that the loss converges and the model learns.\n"
      ]
    },
    {
      "cell_type": "markdown",
      "metadata": {
        "id": "NqWPhzxH_eS3"
      },
      "source": [
        "## Prerequisites"
      ]
    },
    {
      "cell_type": "code",
      "execution_count": null,
      "metadata": {
        "colab": {
          "base_uri": "https://localhost:8080/"
        },
        "id": "wgpQG7OyZpSt",
        "outputId": "633138b6-fa2b-4df6-fc7c-527e5015c847"
      },
      "outputs": [
        {
          "output_type": "stream",
          "name": "stdout",
          "text": [
            "Using device: cuda\n"
          ]
        }
      ],
      "source": [
        "import urllib.request\n",
        "import zipfile\n",
        "import shutil\n",
        "\n",
        "import torch\n",
        "import torch.nn as nn\n",
        "import torch.optim as optim\n",
        "from torch.utils.data import Dataset, DataLoader, random_split\n",
        "from torch.cuda.amp import GradScaler, autocast\n",
        "\n",
        "import unicodedata\n",
        "import re\n",
        "import random\n",
        "import time\n",
        "import math\n",
        "import os\n",
        "import io\n",
        "\n",
        "import matplotlib.pyplot as plt\n",
        "import matplotlib.ticker as ticker\n",
        "import numpy as np\n",
        "from sklearn.model_selection import train_test_split\n",
        "\n",
        "device = torch.device(\"cuda\" if torch.cuda.is_available() else \"cpu\")\n",
        "print(f\"Using device: {device}\")\n",
        "\n",
        "# Seeding\n",
        "SEED = 1234\n",
        "random.seed(SEED)\n",
        "np.random.seed(SEED)\n",
        "torch.manual_seed(SEED)\n",
        "torch.cuda.manual_seed(SEED)\n",
        "torch.backends.cudnn.deterministic = True"
      ]
    },
    {
      "cell_type": "code",
      "execution_count": null,
      "metadata": {
        "id": "PRp6IHdoZspq"
      },
      "outputs": [],
      "source": [
        "def download_and_extract_data(url: str, extract_to: str = \"./data\"):\n",
        "    \"\"\"\n",
        "    Function to download the data archive and extract it.\n",
        "    :param url: URL of the archive\n",
        "    :param extract_to: Path to extract the archive contents\n",
        "    \"\"\"\n",
        "    os.makedirs(extract_to, exist_ok=True)\n",
        "    zip_path = os.path.join(extract_to, \"data.zip\")\n",
        "\n",
        "    if not os.path.exists(zip_path):\n",
        "        print(\"Downloading data...\")\n",
        "        try:\n",
        "            # Создаем заголовки, имитирующие браузер\n",
        "            headers = {\n",
        "                'User-Agent': 'Mozilla/5.0 (Windows NT 10.0; Win64; x64) AppleWebKit/537.36 (KHTML, like Gecko) Chrome/91.0.4472.124 Safari/537.36',\n",
        "                'Accept': '*/*' # Принимаем любой тип контента\n",
        "            }\n",
        "            # Создаем объект запроса с URL и заголовками\n",
        "            req = urllib.request.Request(url, headers=headers)\n",
        "\n",
        "            # Открываем URL с использованием созданного запроса\n",
        "            with urllib.request.urlopen(req) as response, open(zip_path, 'wb') as out_file:\n",
        "                # Копируем содержимое ответа в локальный файл порциями\n",
        "                shutil.copyfileobj(response, out_file)\n",
        "            print(\"Download completed!\")\n",
        "        except urllib.error.HTTPError as e:\n",
        "            print(f\"HTTP Error during download: {e}\")\n",
        "            print(f\"URL: {e.url}\")\n",
        "            print(f\"Code: {e.code}\")\n",
        "            print(f\"Reason: {e.reason}\")\n",
        "            # Опционально: можно прочитать тело ответа, если сервер его прислал\n",
        "            # error_content = e.read().decode('utf-8', errors='ignore')\n",
        "            # print(f\"Server response: {error_content}\")\n",
        "            return # Выходим, если загрузка не удалась\n",
        "        except Exception as e:\n",
        "            print(f\"An error occurred during download: {e}\")\n",
        "            return # Выходим, если загрузка не удалась\n",
        "    else:\n",
        "        print(\"Archive already exists.\")\n",
        "\n",
        "    # Extract the archive\n",
        "    try:\n",
        "        print(f\"Extracting {zip_path}...\")\n",
        "        with zipfile.ZipFile(zip_path, 'r') as zip_ref:\n",
        "            zip_ref.extractall(extract_to)\n",
        "        print(\"Data extracted to\", extract_to)\n",
        "    except zipfile.BadZipFile:\n",
        "        print(f\"Error: Failed to unzip file. It might be corrupted or not a zip file.\")\n",
        "        # Попробуем удалить поврежденный файл, чтобы при следующем запуске он скачался заново\n",
        "        if os.path.exists(zip_path):\n",
        "             os.remove(zip_path)\n",
        "             print(f\"Removed corrupted file: {zip_path}\")\n",
        "    except Exception as e:\n",
        "        print(f\"An error occurred during extraction: {e}\")\n"
      ]
    },
    {
      "cell_type": "code",
      "execution_count": null,
      "metadata": {
        "id": "8imcpaKu9Oju"
      },
      "outputs": [],
      "source": [
        "# Data Prep functions\n",
        "class Lang:\n",
        "    def __init__(self, name):\n",
        "        self.name = name\n",
        "        self.word2index = {\"<sos>\": SOS_token, \"<eos>\": EOS_token, \"<pad>\": PAD_token, \"<unk>\": UNK_token}\n",
        "        self.word2count = {}\n",
        "        self.index2word = {SOS_token: \"<sos>\", EOS_token: \"<eos>\", PAD_token: \"<pad>\", UNK_token: \"<unk>\"}\n",
        "        self.n_words = 4  # Starting with 4 special tokens\n",
        "\n",
        "    def addSentence(self, sentence):\n",
        "        for word in sentence.split(' '):\n",
        "            self.addWord(word)\n",
        "\n",
        "    def addWord(self, word):\n",
        "        if word not in self.word2index:\n",
        "            self.word2index[word] = self.n_words\n",
        "            self.word2count[word] = 1\n",
        "            self.index2word[self.n_words] = word\n",
        "            self.n_words += 1\n",
        "        else:\n",
        "            self.word2count[word] += 1\n",
        "\n",
        "# --- Preprocessing Functions ---\n",
        "# Convert Unicode to ASCII, removing diacritical marks\n",
        "def unicodeToAscii(s):\n",
        "    return ''.join(\n",
        "        c for c in unicodedata.normalize('NFD', s)\n",
        "        if unicodedata.category(c) != 'Mn'\n",
        "    )\n",
        "\n",
        "# Normalize a string: lowercase, trim whitespace, basic cleaning\n",
        "def normalizeString(s):\n",
        "    s = unicodeToAscii(s.lower().strip())\n",
        "    # Add a space before punctuation, replace non-letter/digit/punctuation characters with a space\n",
        "    s = re.sub(r\"([.!?])\", r\" \\1\", s)\n",
        "    s = re.sub(r\"[^a-zA-Zа-яА-ЯёЁ.!?'`]+\", r\" \", s)  # Keep Latin, Cyrillic and basic punctuation\n",
        "    s = re.sub(r\"\\s+\", r\" \", s).strip()  # Remove extra spaces\n",
        "    return s\n",
        "\n",
        "# --- Reading and Filtering Data ---\n",
        "def readLangs(lang1_name, lang2_name, reverse=False):\n",
        "    print(\"Reading lines...\")\n",
        "    lines = open(DATA_FILE_PATH, encoding='utf-8').read().strip().split('\\n')\n",
        "\n",
        "    # Split into pairs and normalize\n",
        "    pairs = [[normalizeString(s) for s in l.split('\\t')[:2]] for l in lines]  # Only take the first 2 columns (en, ru)\n",
        "\n",
        "    # Reverse pairs and create Lang instances\n",
        "    if reverse:\n",
        "        pairs = [list(reversed(p)) for p in pairs]\n",
        "        input_lang = Lang(lang2_name)\n",
        "        output_lang = Lang(lang1_name)\n",
        "    else:\n",
        "        input_lang = Lang(lang1_name)\n",
        "        output_lang = Lang(lang2_name)\n",
        "\n",
        "    return input_lang, output_lang, pairs\n",
        "\n",
        "# Filtering pairs by length (and optionally by content for simple examples)\n",
        "def filterPair(p):\n",
        "    # p[0] - source (russian), p[1] - target (english)\n",
        "    return len(p[0].split(' ')) < MAX_LENGTH and \\\n",
        "           len(p[1].split(' ')) < MAX_LENGTH\n",
        "\n",
        "def filterPairs(pairs):\n",
        "    return [pair for pair in pairs if filterPair(pair)]\n",
        "\n",
        "# --- Main Data Preparation Function ---\n",
        "def prepareData(lang1_name, lang2_name, reverse=False):\n",
        "    input_lang, output_lang, pairs = readLangs(lang1_name, lang2_name, reverse)\n",
        "    print(f\"Read {len(pairs)} sentence pairs\")\n",
        "    pairs = filterPairs(pairs)\n",
        "    print(f\"Trimmed to {len(pairs)} sentence pairs (max_length={MAX_LENGTH})\")\n",
        "\n",
        "    # Limit the number of pairs for speed\n",
        "    if len(pairs) > MAX_PAIRS:\n",
        "        pairs = pairs[:MAX_PAIRS]\n",
        "        print(f\"Further reduced to {len(pairs)} pairs for speed.\")\n",
        "\n",
        "    print(\"Counting words...\")\n",
        "    for pair in pairs:\n",
        "        input_lang.addSentence(pair[0])\n",
        "        output_lang.addSentence(pair[1])\n",
        "    print(\"Counted words:\")\n",
        "    print(f\"\\t{input_lang.name}: {input_lang.n_words}\")\n",
        "    print(f\"\\t{output_lang.name}: {output_lang.n_words}\")\n",
        "    return input_lang, output_lang, pairs\n",
        "\n",
        "# --- Converting Text to Indices ---\n",
        "def indexesFromSentence(lang, sentence):\n",
        "    return [lang.word2index.get(word, UNK_token) for word in sentence.split(' ')]\n",
        "\n",
        "def tensorFromSentence(lang, sentence):\n",
        "    indexes = indexesFromSentence(lang, sentence)\n",
        "    indexes.append(EOS_token)  # Append EOS at the end\n",
        "    return torch.tensor(indexes, dtype=torch.long, device=device).view(-1, 1)  # [seq_len, 1]\n",
        "\n",
        "def tensorsFromPair(pair):\n",
        "    input_tensor = tensorFromSentence(input_lang, pair[0])\n",
        "    target_tensor = tensorFromSentence(output_lang, pair[1])  # EOS is already added in tensorFromSentence\n",
        "    return (input_tensor, target_tensor)\n",
        "\n",
        "# --- Creating Dataset and Dataloader ---\n",
        "class TranslationDataset(Dataset):\n",
        "    def __init__(self, pairs, input_lang, output_lang):\n",
        "        self.pairs = pairs\n",
        "        self.input_lang = input_lang\n",
        "        self.output_lang = output_lang\n",
        "\n",
        "    def __len__(self):\n",
        "        return len(self.pairs)\n",
        "\n",
        "    def __getitem__(self, idx):\n",
        "        pair = self.pairs[idx]\n",
        "        input_tensor, target_tensor = tensorsFromPair(pair)\n",
        "        return {\"input\": input_tensor, \"target\": target_tensor,\n",
        "                \"input_text\": pair[0], \"target_text\": pair[1]}  # For debugging\n",
        "\n",
        "# --- Function to Split Data ---\n",
        "# This will be called with different test_size / random_state parameters for comparison\n",
        "def create_splits(pairs, test_size=0.1, val_size=0.1, random_state=42):\n",
        "    \"\"\"Creates train, validation, and test splits.\"\"\"\n",
        "    assert test_size + val_size < 1.0\n",
        "    train_pairs, test_pairs = train_test_split(pairs, test_size=test_size, random_state=random_state)\n",
        "    # Calculate the validation proportion from the remaining data after separating the test set\n",
        "    val_proportion = val_size / (1.0 - test_size)\n",
        "    train_pairs, val_pairs = train_test_split(train_pairs, test_size=val_proportion, random_state=random_state)  # Using the same random_state\n",
        "    print(f\"Data split: Train={len(train_pairs)}, Validation={len(val_pairs)}, Test={len(test_pairs)}\")\n",
        "    return train_pairs, val_pairs, test_pairs"
      ]
    },
    {
      "cell_type": "code",
      "execution_count": null,
      "metadata": {
        "id": "Lzoc0-v2Cxgt"
      },
      "outputs": [],
      "source": [
        "# Helper function for measuring time per epoch\n",
        "def epoch_time(start_time, end_time):\n",
        "    elapsed_time = end_time - start_time\n",
        "    elapsed_mins = int(elapsed_time / 60)\n",
        "    elapsed_secs = int(elapsed_time - (elapsed_mins * 60))\n",
        "    return elapsed_mins, elapsed_secs\n",
        "\n",
        "\n",
        "# Function for plotting the loss curves\n",
        "def plot_losses(train_losses, valid_losses, title='Training and Validation Loss'):\n",
        "    epochs = range(1, len(train_losses) + 1)\n",
        "    plt.figure(figsize=(10, 6))\n",
        "    plt.plot(epochs, train_losses, 'bo-', label='Training Loss')\n",
        "    plt.plot(epochs, valid_losses, 'ro-', label='Validation Loss')\n",
        "    plt.title(title)\n",
        "    plt.xlabel('Epochs')\n",
        "    plt.ylabel('Loss')\n",
        "    plt.legend()\n",
        "    plt.grid(True)\n",
        "    plt.show()"
      ]
    },
    {
      "cell_type": "markdown",
      "metadata": {
        "id": "R_b9H5IcbkQj"
      },
      "source": [
        "## 1. Data Loading and Preprocessing\n",
        "\n",
        "* Download the file with Russian-English pairs from [manythings.org/anki](https://www.manythings.org/anki/).\n",
        "* Unpack the archive.\n",
        "* Read the data and create a list of pairs (Russian, English).\n",
        "* Perform preliminary text preprocessing:\n",
        "    * Unicode normalization (to ensure consistency of characters).\n",
        "    * Convert to lowercase.\n",
        "    * Remove unnecessary characters (while keeping basic punctuation).\n",
        "    * Add a space before punctuation marks (so that they become separate tokens).\n",
        "    * Add start-of-sequence (`<sos>`) and end-of-sequence (`<eos>`) tokens to the target (English) language.\n",
        "* Limit the maximum sentence length and vocabulary size to speed up training.\n",
        "* Create dictionaries (mapping \"word -> index\" and \"index -> word\") for both languages, adding special tokens `<pad>` (for padding), `<sos>` (start of sentence), `<eos>` (end of sentence), and `<unk>` (for unknown words).\n",
        "* Convert text pairs into pairs of index sequences.\n",
        "* Define a function to create data splits (Train/Validation/Test) to ensure both identical and different splits for comparison tasks.\n"
      ]
    },
    {
      "cell_type": "code",
      "execution_count": null,
      "metadata": {
        "colab": {
          "base_uri": "https://localhost:8080/"
        },
        "id": "7MTVPHCyZsu8",
        "outputId": "44561151-2421-4b37-9c21-3b18d8916784"
      },
      "outputs": [
        {
          "output_type": "stream",
          "name": "stdout",
          "text": [
            "Downloading data...\n",
            "Download completed!\n",
            "Extracting ./data/data.zip...\n",
            "Data extracted to ./data\n"
          ]
        }
      ],
      "source": [
        "# Dataset URL\n",
        "data_url = \"http://www.manythings.org/anki/rus-eng.zip\"\n",
        "download_and_extract_data(data_url)"
      ]
    },
    {
      "cell_type": "code",
      "execution_count": null,
      "metadata": {
        "colab": {
          "base_uri": "https://localhost:8080/"
        },
        "id": "pTAHLoNlqAnj",
        "outputId": "c3ca1a04-0a43-44c7-95f3-6115ceaabde2"
      },
      "outputs": [
        {
          "output_type": "stream",
          "name": "stdout",
          "text": [
            "Reading lines...\n",
            "Read 496059 sentence pairs\n",
            "Trimmed to 492209 sentence pairs (max_length=15)\n",
            "Further reduced to 10000 pairs for speed.\n",
            "Counting words...\n",
            "Counted words:\n",
            "\trus: 4564\n",
            "\teng: 1740\n",
            "\n",
            "Example pair:\n",
            "['я чувствую мне повезет .', 'i feel lucky .']\n",
            "\n",
            "Example tensors:\n",
            "Source: сделаи шаг назад . -> tensor([  54, 1354, 1299,    7,    1], device='cuda:0')\n",
            "Target: step back . -> tensor([512,  99,   5,   1], device='cuda:0')\n"
          ]
        }
      ],
      "source": [
        "SOS_token = 0\n",
        "EOS_token = 1\n",
        "PAD_token = 2\n",
        "UNK_token = 3\n",
        "\n",
        "DATA_FILE_PATH = \"./data/rus.txt\"\n",
        "MAX_LENGTH = 15  # Maximum sentence length (including SOS/EOS)\n",
        "MAX_PAIRS = 10000  # Limit the dataset for speed (can be increased for better quality)\n",
        "\n",
        "# Call data preparation (Russian -> English)\n",
        "input_lang, output_lang, pairs = prepareData('eng', 'rus', reverse=True)  # reverse=True means rus -> eng\n",
        "\n",
        "# Example pair\n",
        "print(\"\\nExample pair:\")\n",
        "print(random.choice(pairs))\n",
        "\n",
        "# Example tensor representation\n",
        "example_pair_index = random.randrange(len(pairs))\n",
        "example_tensors = tensorsFromPair(pairs[example_pair_index])\n",
        "print(\"\\nExample tensors:\")\n",
        "print(f\"Source: {pairs[example_pair_index][0]} -> {example_tensors[0].view(-1)}\")\n",
        "print(f\"Target: {pairs[example_pair_index][1]} -> {example_tensors[1].view(-1)}\")"
      ]
    },
    {
      "cell_type": "code",
      "execution_count": null,
      "metadata": {
        "colab": {
          "base_uri": "https://localhost:8080/"
        },
        "id": "u-73-PRtqAqE",
        "outputId": "dce4e447-e599-4953-b5bb-dce82db67e1e"
      },
      "outputs": [
        {
          "output_type": "stream",
          "name": "stdout",
          "text": [
            "Data split: Train=7999, Validation=1001, Test=1000\n",
            "\n",
            "Created DataLoaders for Split 1 with Batch Size = 1\n"
          ]
        }
      ],
      "source": [
        "# Create the first (primary) split\n",
        "TRAIN_PAIRS_1, VAL_PAIRS_1, TEST_PAIRS_1 = create_splits(pairs, test_size=0.1, val_size=0.1, random_state=SEED)\n",
        "\n",
        "# Create datasets for the first split\n",
        "train_dataset_1 = TranslationDataset(TRAIN_PAIRS_1, input_lang, output_lang)\n",
        "val_dataset_1 = TranslationDataset(VAL_PAIRS_1, input_lang, output_lang)\n",
        "test_dataset_1 = TranslationDataset(TEST_PAIRS_1, input_lang, output_lang)\n",
        "\n",
        "# DataLoader\n",
        "BATCH_SIZE = 1 # For simplicity of your realisation for this seminar we use Batch Size = 1\n",
        "\n",
        "train_iterator_1 = DataLoader(train_dataset_1, batch_size=BATCH_SIZE, shuffle=True)\n",
        "valid_iterator_1 = DataLoader(val_dataset_1, batch_size=BATCH_SIZE, shuffle=False)\n",
        "test_iterator_1 = DataLoader(test_dataset_1, batch_size=BATCH_SIZE, shuffle=False)\n",
        "\n",
        "print(f\"\\nCreated DataLoaders for Split 1 with Batch Size = {BATCH_SIZE}\")\n"
      ]
    },
    {
      "cell_type": "markdown",
      "metadata": {
        "id": "CDbqINQM-eLv"
      },
      "source": [
        "## 2. Defining the Seq2Seq Model\n",
        "\n",
        "The model consists of two main components:\n",
        "* **Encoder:** Accepts the input sequence (a sentence in the source language) and converts it into a context vector (the hidden state of the recurrent network). We implement the encoder so that it can use RNN, LSTM, or GRU.\n",
        "* **Decoder:** Accepts the context vector from the encoder and the `<sos>` token, then generates the output sequence (a sentence in the target language) token by token. At each step, it uses the previous hidden state and the predicted token to generate the next one. We also make it flexible to use RNN, LSTM, or GRU.\n",
        "* **Seq2Seq Model:** A wrapper that connects the encoder and the decoder. It implements the \"Teacher Forcing\" mechanism to accelerate convergence during training.\n",
        "\n",
        "**RNN Architectures:**\n",
        "* **Simple RNN:** The simplest recurrent network, which suffers from the vanishing/exploding gradient problem on long sequences.\n",
        "* **LSTM (Long Short-Term Memory):** Contains special gates (forget, input, output) to control the flow of information, allowing it to better capture long-term dependencies.\n",
        "* **GRU (Gated Recurrent Unit):** A simplified version of LSTM with fewer gates (update and reset), often showing comparable performance with lower computational complexity.\n"
      ]
    },
    {
      "cell_type": "markdown",
      "source": [
        "### Task:\n",
        "Fill in the blanks \\<YOUR_CODE\\> with a real code. We made less blanks, but more space for experiments. Try using useful links.\n",
        "\n",
        "**Useful links**:\n",
        "1. https://pytorch.org/docs/stable/generated/torch.nn.RNN.html\n",
        "2. https://pytorch.org/docs/stable/generated/torch.nn.LSTM.html\n",
        "3. https://pytorch.org/docs/stable/generated/torch.nn.GRU.html\n"
      ],
      "metadata": {
        "id": "4Elld4ZhLQx_"
      }
    },
    {
      "cell_type": "code",
      "execution_count": null,
      "metadata": {
        "id": "AEv7A8FUl4ih"
      },
      "outputs": [],
      "source": [
        "class EncoderRNN(nn.Module):\n",
        "    def __init__(self, input_size, hidden_size, rnn_type='GRU', dropout_p=0.1):\n",
        "        super(EncoderRNN, self).__init__()\n",
        "        self.hidden_size = hidden_size\n",
        "        self.rnn_type = rnn_type.upper()\n",
        "\n",
        "        self.embedding = nn.Embedding(input_size, hidden_size)\n",
        "        self.dropout = nn.Dropout(dropout_p)\n",
        "\n",
        "        # batch_first=False because tensors are [seq_len, batch_size=1, features]\n",
        "        if self.rnn_type == 'LSTM':\n",
        "            self.rnn = <YOUR_CODE> # batch_first=False\n",
        "        elif self.rnn_type == 'GRU':\n",
        "            self.rnn = <YOUR_CODE> # batch_first=False\n",
        "        elif self.rnn_type == 'RNN':\n",
        "            self.rnn = <YOUR_CODE> # batch_first=False\n",
        "        else:\n",
        "            raise ValueError(\"Unsupported RNN type. Choose 'LSTM', 'GRU', or 'RNN'.\")\n",
        "\n",
        "    def forward(self, input_seq):\n",
        "        # input_seq: [seq_len, batch_size=1]\n",
        "        embedded = self.dropout(self.embedding(input_seq))  # embedded: [seq_len, 1, hidden_size]\n",
        "\n",
        "        # LSTM returns outputs, (hidden, cell)\n",
        "        # GRU/RNN return outputs, hidden\n",
        "        outputs, hidden = self.rnn(embedded)\n",
        "        # outputs: [seq_len, 1, hidden_size]\n",
        "        # hidden (and cell for LSTM): [num_layers*num_directions=1, 1, hidden_size]\n",
        "\n",
        "        return outputs, hidden  # Return all outputs and the last hidden state\n",
        "\n",
        "class DecoderRNN(nn.Module):\n",
        "    def __init__(self, hidden_size, output_size, rnn_type='GRU', dropout_p=0.1):\n",
        "        super(DecoderRNN, self).__init__()\n",
        "        self.hidden_size = hidden_size\n",
        "        self.output_size = output_size\n",
        "        self.rnn_type = rnn_type.upper()\n",
        "\n",
        "        self.embedding = nn.Embedding(output_size, hidden_size)\n",
        "        self.dropout = nn.Dropout(dropout_p)\n",
        "\n",
        "        if self.rnn_type == 'LSTM':\n",
        "            self.rnn = <YOUR_CODE> # batch_first=False\n",
        "        elif self.rnn_type == 'GRU':\n",
        "            self.rnn = <YOUR_CODE> # batch_first=False\n",
        "        elif self.rnn_type == 'RNN':\n",
        "            self.rnn = <YOUR_CODE> # batch_first=False\n",
        "        else:\n",
        "            raise ValueError(\"Unsupported RNN type. Choose 'LSTM', 'GRU', or 'RNN'.\")\n",
        "\n",
        "        self.out = nn.Linear(hidden_size, output_size)\n",
        "\n",
        "    def forward(self, decoder_input, decoder_hidden):\n",
        "        # decoder_input: [batch_size=1] - one token at a time\n",
        "        # decoder_hidden: ([1, 1, hidden_size], [1, 1, hidden_size]) for LSTM\n",
        "        #                 [1, 1, hidden_size] for GRU/RNN\n",
        "\n",
        "        if decoder_input.dim() == 1:\n",
        "            decoder_input = decoder_input.unsqueeze(1)  # [1, 1]\n",
        "\n",
        "        embedded = self.dropout(self.embedding(decoder_input))  # embedded: [1, 1, hidden_size]\n",
        "\n",
        "        # LSTM expects (hidden, cell)\n",
        "        # GRU/RNN expect hidden\n",
        "        rnn_output, hidden = self.rnn(embedded, decoder_hidden)\n",
        "        # rnn_output: [1, 1, hidden_size]\n",
        "        # hidden: same as decoder_hidden\n",
        "\n",
        "        # Remove the seq_len=1 dimension before the Linear layer\n",
        "        output = self.out(rnn_output.squeeze(0))  # output: [1, output_size]\n",
        "\n",
        "        return output, hidden\n",
        "\n",
        "class Seq2Seq(nn.Module):\n",
        "    def __init__(self, encoder, decoder, device):\n",
        "        super().__init__()\n",
        "        self.encoder = encoder\n",
        "        self.decoder = decoder\n",
        "        self.device = device\n",
        "\n",
        "    def forward(self, src, trg, teacher_forcing_ratio=0.3):\n",
        "        # src: [src_len, batch_size=1]\n",
        "        # trg: [trg_len, batch_size=1]\n",
        "        # teacher_forcing_ratio: probability of using the actual token as the next input\n",
        "        batch_size = trg.shape[1]\n",
        "        trg_len = trg.shape[0]\n",
        "        trg_vocab_size = self.decoder.output_size\n",
        "\n",
        "        # Tensor for storing decoder outputs\n",
        "        outputs = torch.zeros(trg_len, batch_size, trg_vocab_size).to(self.device)\n",
        "\n",
        "        # The last hidden state of the encoder is used as the initial hidden state for the decoder\n",
        "        encoder_outputs, encoder_hidden = self.encoder(src)\n",
        "\n",
        "        # The first input for the decoder is the <sos> token\n",
        "        decoder_input = trg[0, :]\n",
        "\n",
        "        # Initial hidden state for the decoder (for LSTM, this will be a tuple (hidden, cell))\n",
        "        decoder_hidden = encoder_hidden\n",
        "\n",
        "        for t in range(1, trg_len):  # Start from 1, since the 0th input is <sos>\n",
        "            # Run the decoder for one time step on decoder_input, decoder_hidden\n",
        "            decoder_output, decoder_hidden = <YOUR_CODE>\n",
        "\n",
        "            # Save the prediction\n",
        "            outputs[t] = decoder_output\n",
        "\n",
        "            # Decide whether to use teacher forcing\n",
        "            teacher_force = random.random() < teacher_forcing_ratio\n",
        "\n",
        "            # Get the token with the highest probability\n",
        "            top1 = decoder_output.argmax(1)\n",
        "\n",
        "            # If teacher forcing, the next input is the actual token, otherwise the predicted token\n",
        "            decoder_input = trg[t] if teacher_force else top1\n",
        "\n",
        "        # outputs: [trg_len, batch_size=1, trg_vocab_size]\n",
        "        return outputs\n"
      ]
    },
    {
      "cell_type": "markdown",
      "metadata": {
        "id": "wcNzt8j8Ap4K"
      },
      "source": [
        "## 3. Model Training\n",
        "* Implement the function `train_epoch` for one epoch of training:\n",
        "* Implement the function `evaluate` for validation/test evaluation:\n",
        "* Implement the main function `train`, which:\n",
        "    * Runs the epoch loop.\n",
        "    * Calls `train_epoch` and `evaluate`.\n",
        "* Define hyperparameters:\n",
        "  *   hidden layer size = 128\n",
        "  *   number of epochs = 5-10 (1 epoch ~ 1min)\n",
        "  *   learning rate = 0.0005\n",
        "* Initialize the model (choosing the RNN type), the optimizer (Adam), and the loss function (CrossEntropyLoss, since this is a classification task at each decoder step). PyTorch's `CrossEntropyLoss` expects model outputs of shape `(N, C)` or `(N, C, d_1, ..., d_k)` and targets of shape `(N)` or `(N, d_1, ..., d_k)`, where `C` is the number of classes. You may need to adjust the tensor shapes slightly before feeding them to the loss function. Losses on `<pad>` tokens should be ignored.\n",
        "\n"
      ]
    },
    {
      "cell_type": "markdown",
      "source": [
        "### Task:\n",
        "Fill in the blanks \\<YOUR_CODE\\> with a real code (only parameters here). Try to experiment with parameters, but we will recommend again (as in prev cell) some parameters too:\n",
        "* Hidden dim: 128\n",
        "* Learning rate: 0.0005\n",
        "* N epochs: 5 (1 epoch ~ 1min, so increase carefully for this seminar)\n"
      ],
      "metadata": {
        "id": "gmlK-yDiMX9i"
      }
    },
    {
      "cell_type": "code",
      "execution_count": null,
      "metadata": {
        "id": "P1sEniMTl4kw"
      },
      "outputs": [],
      "source": [
        "def train_epoch(model, iterator, optimizer, criterion, clip, teacher_forcing_ratio, scaler):\n",
        "    model.train()\n",
        "    epoch_loss = 0\n",
        "\n",
        "    for i, batch in enumerate(iterator):\n",
        "        src = batch['input'].to(device)\n",
        "        trg = batch['target'].to(device)\n",
        "        src = src.squeeze(0)  # Ensure squeeze is maintained\n",
        "        trg = trg.squeeze(0)  # Ensure squeeze is maintained\n",
        "\n",
        "        optimizer.zero_grad()\n",
        "\n",
        "        # Use autocast for mixed precision\n",
        "        with autocast(enabled=torch.cuda.is_available()):  # Enable only if CUDA is available\n",
        "            outputs = model(src, trg, teacher_forcing_ratio)  # [trg_len, batch_size=1, output_dim]\n",
        "            output_dim = outputs.shape[-1]\n",
        "            outputs_reshaped = outputs[1:].view(-1, output_dim)  # Skip the <sos> token\n",
        "            trg_reshaped = trg[1:].view(-1)  # Skip the <sos> token\n",
        "            loss = criterion(outputs_reshaped, trg_reshaped)\n",
        "\n",
        "        # Scale the loss and perform backward\n",
        "        scaler.scale(loss).backward()\n",
        "\n",
        "        # Instead of the normal optimizer step:\n",
        "        scaler.step(optimizer)\n",
        "        scaler.update()  # Update scaler for the next iteration\n",
        "\n",
        "        epoch_loss += loss.item()\n",
        "\n",
        "    return epoch_loss / len(iterator)\n",
        "\n",
        "# Eval function\n",
        "def evaluate(model, iterator, criterion):\n",
        "    model.eval()\n",
        "    epoch_loss = 0\n",
        "\n",
        "    with torch.no_grad():\n",
        "        for i, batch in enumerate(iterator):\n",
        "            src = batch['input'].to(device)\n",
        "            trg = batch['target'].to(device)\n",
        "\n",
        "            src = src.squeeze(0)\n",
        "            trg = trg.squeeze(0)\n",
        "\n",
        "            # Turn off teacher forcing for evaluation\n",
        "            outputs = model(src, trg, 0)  # outputs: [trg_len, batch_size, output_dim]\n",
        "\n",
        "            output_dim = outputs.shape[-1]\n",
        "\n",
        "            # Skip the <sos> token and reshape\n",
        "            outputs_reshaped = outputs[1:].view(-1, output_dim)\n",
        "            trg_reshaped = trg[1:].view(-1)\n",
        "\n",
        "            loss = criterion(outputs_reshaped, trg_reshaped)\n",
        "            epoch_loss += loss.item()\n",
        "\n",
        "    return epoch_loss / len(iterator)\n",
        "\n",
        "# Main training function\n",
        "def train_model(model, train_iterator, valid_iterator, optimizer, criterion, n_epochs, clip, model_save_path, teacher_forcing_ratio=0.5):\n",
        "    best_valid_loss = float('inf')\n",
        "    train_losses = []\n",
        "    valid_losses = []\n",
        "\n",
        "    # Create a GradScaler ONLY ONCE before the training loop\n",
        "    scaler = GradScaler(enabled=torch.cuda.is_available())  # Enable only if CUDA is available\n",
        "\n",
        "    print(f\"Starting training for {n_epochs} epochs...\")\n",
        "    print(f\"Mixed precision enabled: {scaler.is_enabled()}\")  # Display status\n",
        "\n",
        "    for epoch in range(n_epochs):\n",
        "        start_time = time.time()\n",
        "\n",
        "        # Pass scaler into train_epoch\n",
        "        train_loss = train_epoch(model, train_iterator, optimizer, criterion, clip, teacher_forcing_ratio, scaler)\n",
        "        valid_loss = evaluate(model, valid_iterator, criterion)  # evaluate can remain without scaler\n",
        "\n",
        "        end_time = time.time()\n",
        "\n",
        "        train_losses.append(train_loss)\n",
        "        valid_losses.append(valid_loss)\n",
        "\n",
        "        epoch_mins, epoch_secs = epoch_time(start_time, end_time)\n",
        "\n",
        "        # Save the best model\n",
        "        if valid_loss < best_valid_loss:\n",
        "            best_valid_loss = valid_loss\n",
        "            torch.save(model.state_dict(), model_save_path)\n",
        "            print(f\"\\t-- Best validation loss improved. Model saved to {model_save_path} --\")\n",
        "\n",
        "        print(f'Epoch: {epoch+1:02} | Time: {epoch_mins}m {epoch_secs}s')\n",
        "        print(f'\\tTrain Loss: {train_loss:.3f} | Train PPL: {math.exp(train_loss):7.3f}')\n",
        "        print(f'\\t Val. Loss: {valid_loss:.3f} |  Val. PPL: {math.exp(valid_loss):7.3f}')\n",
        "\n",
        "    # Plot the loss curve after training is complete\n",
        "    plot_losses(train_losses, valid_losses, title=f'{model.encoder.rnn_type} Model Loss')\n",
        "\n",
        "    return train_losses, valid_losses  # Return the loss history\n"
      ]
    },
    {
      "cell_type": "code",
      "execution_count": null,
      "metadata": {
        "colab": {
          "background_save": true
        },
        "id": "RLv-lRlPl4nY"
      },
      "outputs": [],
      "source": [
        "# --- Hyperparameters ---\n",
        "HIDDEN_DIM = <YOUR_CODE>  # Hidden dimension (and embedding size for simplicity)\n",
        "ENC_DROPOUT = 0.5\n",
        "DEC_DROPOUT = 0.5\n",
        "LEARNING_RATE = <YOUR_CODE>\n",
        "N_EPOCHS = <YOUR_CODE>   # Increase for better quality, but training will take longer\n",
        "CLIP = 1\n",
        "TEACHER_FORCING_RATIO = 0.5  # Start with 0.5; can be decreased over time (annealing)\n",
        "\n",
        "INPUT_DIM = input_lang.n_words\n",
        "OUTPUT_DIM = output_lang.n_words\n",
        "\n",
        "# --- Dictionaries for storing results ---\n",
        "results = {}\n",
        "trained_models = {}\n",
        "\n",
        "# --- Training models---\n",
        "data_split_name = \"Split_1\"\n",
        "split_iterators = {'train': train_iterator_1, 'valid': valid_iterator_1, 'test': test_iterator_1}\n",
        "\n",
        "for rnn_type in ['RNN', 'LSTM', 'GRU']:\n",
        "    print(f\"\\n===== Training {rnn_type} Model on {data_split_name} =====\")\n",
        "\n",
        "    # --- Model Initialization ---\n",
        "    encoder = EncoderRNN(<YOUR_CODE>, rnn_type=rnn_type, dropout_p=ENC_DROPOUT)\n",
        "    decoder = DecoderRNN(<YOUR_CODE>, rnn_type=rnn_type, dropout_p=DEC_DROPOUT)\n",
        "    model = Seq2Seq(encoder, decoder, device).to(device)\n",
        "\n",
        "    # Weight initialization (can help with convergence)\n",
        "    def init_weights(m):\n",
        "        for name, param in m.named_parameters():\n",
        "            if 'weight' in name:\n",
        "                nn.init.normal_(param.data, mean=0, std=0.01)\n",
        "            else:\n",
        "                nn.init.constant_(param.data, 0)\n",
        "    model.apply(init_weights)\n",
        "\n",
        "    optimizer = optim.Adam(model.parameters(), lr=LEARNING_RATE, weight_decay=1e-5)  # Added weight_decay\n",
        "    criterion = nn.CrossEntropyLoss(ignore_index=PAD_token)\n",
        "\n",
        "    model_save_path = f'seq2seq-{rnn_type.lower()}-{data_split_name}.pt'\n",
        "\n",
        "    # --- Training ---\n",
        "    train_losses, valid_losses = train_model(\n",
        "        model,\n",
        "        split_iterators['train'],\n",
        "        split_iterators['valid'],\n",
        "        optimizer,\n",
        "        criterion,\n",
        "        N_EPOCHS,\n",
        "        CLIP,\n",
        "        model_save_path,\n",
        "        TEACHER_FORCING_RATIO\n",
        "    )\n",
        "\n",
        "    # --- Loading the best model and evaluating on the test set ---\n",
        "    model.load_state_dict(torch.load(model_save_path))\n",
        "    test_loss = evaluate(model, split_iterators['test'], criterion)\n",
        "\n",
        "    print(f'\\n--- {rnn_type} Final Results on {data_split_name} ---')\n",
        "    print(f'\\tBest Validation Loss: {min(valid_losses):.3f} | Best Val. PPL: {math.exp(min(valid_losses)):7.3f}')\n",
        "    print(f'\\tTest Loss: {test_loss:.3f} | Test PPL: {math.exp(test_loss):7.3f}')\n",
        "\n",
        "    # Saving results\n",
        "    results[(rnn_type, data_split_name)] = {\n",
        "        'train_losses': train_losses,\n",
        "        'valid_losses': valid_losses,\n",
        "        'best_valid_loss': min(valid_losses),\n",
        "        'test_loss': test_loss,\n",
        "        'model_path': model_save_path\n",
        "    }\n",
        "    trained_models[(rnn_type, data_split_name)] = model  # Save the model itself (or just the state_dict)"
      ]
    },
    {
      "cell_type": "code",
      "execution_count": null,
      "metadata": {
        "colab": {
          "background_save": true
        },
        "id": "TWL-MoAUDfwx"
      },
      "outputs": [],
      "source": [
        "print(\"\\n===== Comparison of Architectures on Split 1 =====\")\n",
        "for rnn_type in ['RNN', 'LSTM', 'GRU']:\n",
        "    key = (rnn_type, data_split_name)\n",
        "    if key in results:\n",
        "        print(f\"--- {rnn_type} ---\")\n",
        "        print(f\"\\tBest Val Loss: {results[key]['best_valid_loss']:.4f}\")\n",
        "        print(f\"\\tTest Loss:     {results[key]['test_loss']:.4f}\")\n",
        "        print(f\"\\tTest PPL:      {math.exp(results[key]['test_loss']):.4f}\")"
      ]
    },
    {
      "cell_type": "markdown",
      "metadata": {
        "id": "4U3-ZZdBI5Yu"
      },
      "source": [
        "### To think about (at home).\n",
        "1) We used some hacks to not overfit RNN, can you \"break\" the model so it will be overfitting? (Hint: it can be done by changing just few parameters)<br>\n",
        "2) Try to increase amount of data and check the time for LSTM and GRU.<br>\n",
        "3) What do you think will happen with losses and PPL if we train 30 epochs for each model? Which model will be more stable on \"long run\"? Which model will have smallest PPL?<br>"
      ]
    },
    {
      "cell_type": "markdown",
      "metadata": {
        "id": "EG2PA_2sDhJp"
      },
      "source": [
        "## 5. Comparison of Performance on Different Splits\n",
        "\n",
        "* Choose one of the architectures (for example, RNN).\n",
        "* Use the training results of this model on the **first** split (already obtained above).\n",
        "* Create a **second** data split (`train_pairs_2`, `val_pairs_2`, `test_pairs_2`) with different proportions or with another `random_state`.\n",
        "* Create new `DataLoader` instances for the second split.\n",
        "* Initialize a **new** RNN model with the same hyperparameters.\n",
        "* Train this new model on the **second** data split.\n",
        "* Compare the results (validation/test loss) of the RNN model trained on the first split with the results of the RNN model trained on the second split.\n"
      ]
    },
    {
      "cell_type": "code",
      "execution_count": null,
      "metadata": {
        "id": "vi8ehgBWl4qw"
      },
      "outputs": [],
      "source": [
        "# --- Choose model for comparison ---\n",
        "chosen_rnn_type = 'RNN'\n",
        "\n",
        "# --- Creating the second data split ---\n",
        "print(\"\\n===== Creating Second Data Split =====\")\n",
        "TRAIN_PAIRS_2, VAL_PAIRS_2, TEST_PAIRS_2 = create_splits(pairs, test_size=0.1, val_size=0.1, random_state=SEED + 1)  # Different random_state\n",
        "\n",
        "# Create datasets and iterators for the second split\n",
        "train_dataset_2 = TranslationDataset(TRAIN_PAIRS_2, input_lang, output_lang)\n",
        "val_dataset_2 = TranslationDataset(VAL_PAIRS_2, input_lang, output_lang)\n",
        "test_dataset_2 = TranslationDataset(TEST_PAIRS_2, input_lang, output_lang)\n",
        "\n",
        "train_iterator_2 = DataLoader(train_dataset_2, batch_size=BATCH_SIZE, shuffle=True)\n",
        "valid_iterator_2 = DataLoader(val_dataset_2, batch_size=BATCH_SIZE, shuffle=False)\n",
        "test_iterator_2 = DataLoader(test_dataset_2, batch_size=BATCH_SIZE, shuffle=False)\n",
        "\n",
        "print(f\"Created DataLoaders for Split 2 with Batch Size = {BATCH_SIZE}\")\n",
        "\n",
        "# --- Training the chosen model on Split 2 ---\n",
        "data_split_name_2 = \"Split_2\"\n",
        "split_iterators_2 = {'train': train_iterator_2, 'valid': valid_iterator_2, 'test': test_iterator_2}\n",
        "\n",
        "print(f\"\\n===== Training {chosen_rnn_type} Model on {data_split_name_2} =====\")\n",
        "\n",
        "# --- Initializing a NEW model ---\n",
        "# Important: do not reuse the model trained on the first split!\n",
        "encoder_2 = EncoderRNN(INPUT_DIM, HIDDEN_DIM, rnn_type=chosen_rnn_type, dropout_p=ENC_DROPOUT)\n",
        "decoder_2 = DecoderRNN(HIDDEN_DIM, OUTPUT_DIM, rnn_type=chosen_rnn_type, dropout_p=DEC_DROPOUT)\n",
        "model_2 = Seq2Seq(encoder_2, decoder_2, device).to(device)\n",
        "model_2.apply(init_weights)\n",
        "\n",
        "optimizer_2 = optim.Adam(model_2.parameters(), lr=LEARNING_RATE)\n",
        "criterion_2 = nn.CrossEntropyLoss(ignore_index=PAD_token)\n",
        "\n",
        "model_save_path_2 = f'seq2seq-{chosen_rnn_type.lower()}-{data_split_name_2}.pt'\n",
        "\n",
        "# --- Training ---\n",
        "train_losses_2, valid_losses_2 = train_model(\n",
        "    model_2,\n",
        "    split_iterators_2['train'],\n",
        "    split_iterators_2['valid'],\n",
        "    optimizer_2,\n",
        "    criterion_2,\n",
        "    N_EPOCHS,\n",
        "    CLIP,\n",
        "    model_save_path_2,\n",
        "    TEACHER_FORCING_RATIO\n",
        ")\n",
        "\n",
        "# --- Loading the best model and evaluating on the test set ---\n",
        "model_2.load_state_dict(torch.load(model_save_path_2))\n",
        "test_loss_2 = evaluate(model_2, split_iterators_2['test'], criterion_2)\n",
        "\n",
        "print(f'\\n--- {chosen_rnn_type} Final Results on {data_split_name_2} ---')\n",
        "print(f'\\tBest Validation Loss: {min(valid_losses_2):.3f} | Best Val. PPL: {math.exp(min(valid_losses_2)):7.3f}')\n",
        "print(f'\\tTest Loss: {test_loss_2:.3f} | Test PPL: {math.exp(test_loss_2):7.3f}')\n",
        "\n",
        "# Save the results\n",
        "results[(chosen_rnn_type, data_split_name_2)] = {\n",
        "    'train_losses': train_losses_2,\n",
        "    'valid_losses': valid_losses_2,\n",
        "    'best_valid_loss': min(valid_losses_2),\n",
        "    'test_loss': test_loss_2,\n",
        "    'model_path': model_save_path_2\n",
        "}\n",
        "trained_models[(chosen_rnn_type, data_split_name_2)] = model_2\n",
        "\n",
        "# --- Comparison of results for the chosen model on different splits ---\n",
        "print(f\"\\n===== Comparison for {chosen_rnn_type} Model on Different Splits =====\")\n",
        "key1 = (chosen_rnn_type, \"Split_1\")\n",
        "key2 = (chosen_rnn_type, \"Split_2\")\n",
        "\n",
        "if key1 in results:\n",
        "    print(f\"--- Results on Split 1 (e.g., 80/10/10, seed={SEED}) ---\")\n",
        "    print(f\"\\tBest Val Loss: {results[key1]['best_valid_loss']:.4f}\")\n",
        "    print(f\"\\tTest Loss:     {results[key1]['test_loss']:.4f}\")\n",
        "    print(f\"\\tTest PPL:      {math.exp(results[key1]['test_loss']):.4f}\")\n",
        "else:\n",
        "    print(f\"Results for {key1} not found.\")\n",
        "\n",
        "if key2 in results:\n",
        "    print(f\"--- Results on Split 2 (e.g., 80/10/10, seed={SEED+1}) ---\")\n",
        "    print(f\"\\tBest Val Loss: {results[key2]['best_valid_loss']:.4f}\")\n",
        "    print(f\"\\tTest Loss:     {results[key2]['test_loss']:.4f}\")\n",
        "    print(f\"\\tTest PPL:      {math.exp(results[key2]['test_loss']):.4f}\")\n",
        "else:\n",
        "    print(f\"Results for {key2} not found.\")"
      ]
    },
    {
      "cell_type": "markdown",
      "metadata": {
        "id": "J5ZIJi5ULMZX"
      },
      "source": [
        "### To think about (at home).\n",
        "1. We can see much larger gap between train and val loss at the end? Why? Will be other models more stable?\n",
        "2. Try the same cell, but change split proportions.\n",
        "3. How can you stabilize RNN training process?"
      ]
    },
    {
      "cell_type": "markdown",
      "source": [
        "# Module 4: Machine Translation with Transformers\n",
        "**Seminar workflow:**\n",
        "1. **Data**  \n",
        "   We will use the same data as in Module 2.\n",
        "2. **Load the pretrained model.**\n",
        "3. **Estimate the zero-shot model performance.**\n",
        "3. **Model training.**\n",
        "4. **Perfomance comparison.**\n",
        "\n",
        "**Important**:<br>\n",
        "For the demonstration purposes, in this part we will use the model that has good initial quality and will try to improve it. With this setup, you will be able to see changes in a couple of training epochs. In real applications, you will likely need to choose another model / dataset / training procedure, etc.\n"
      ],
      "metadata": {
        "id": "Zem4_dEG7Qwh"
      }
    },
    {
      "cell_type": "markdown",
      "source": [
        "## Prerequisites"
      ],
      "metadata": {
        "id": "zyacnCAqOfw5"
      }
    },
    {
      "cell_type": "code",
      "source": [
        "%pip install transformers datasets evaluate sacrebleu\n",
        "\n",
        "from datasets import Dataset\n",
        "from transformers import AutoTokenizer, AutoModelForSeq2SeqLM, DataCollatorForSeq2Seq, Seq2SeqTrainingArguments, Seq2SeqTrainer\n",
        "import evaluate\n",
        "import numpy as np\n",
        "\n",
        "MAX_LENGTH = 128"
      ],
      "metadata": {
        "id": "xA3yV0Kk7AGF"
      },
      "execution_count": null,
      "outputs": []
    },
    {
      "cell_type": "code",
      "source": [
        "def compute_bleu_score(eval_preds):\n",
        "    bleu_score = evaluate.load(\"sacrebleu\")\n",
        "    preds, labels = eval_preds\n",
        "    decoded_preds = tokenizer.batch_decode(preds, skip_special_tokens=True)\n",
        "\n",
        "    # Replace -100s in the labels as we can't decode them\n",
        "    labels = np.where(labels != -100, labels, tokenizer.pad_token_id)\n",
        "    decoded_labels = tokenizer.batch_decode(labels, skip_special_tokens=True)\n",
        "\n",
        "    # Some simple post-processing\n",
        "    decoded_preds = [pred.strip() for pred in decoded_preds]\n",
        "    decoded_labels = [[label.strip()] for label in decoded_labels]\n",
        "\n",
        "    result = bleu_score.compute(predictions=decoded_preds, references=decoded_labels)\n",
        "    return {\"bleu\": result[\"score\"]}"
      ],
      "metadata": {
        "id": "5UVWwqeJ7anB"
      },
      "execution_count": null,
      "outputs": []
    },
    {
      "cell_type": "code",
      "source": [
        "def print_translation_examples(model):\n",
        "    sample_idx = [2, 4, 12, 14, 15, 32, 49]\n",
        "    ru_examples = dataset_val[sample_idx]['ru']\n",
        "    en_examples = dataset_val[sample_idx]['en']\n",
        "    for i, (en_text, ru_text) in enumerate(zip(en_examples, ru_examples)):\n",
        "        inputs = tokenizer(en_text, return_tensors=\"pt\").input_ids.to(device)\n",
        "        outputs = model.generate(inputs, max_new_tokens=128, do_sample=False)\n",
        "        gen_text = tokenizer.decode(outputs[0], skip_special_tokens=True)\n",
        "        print ('Example {}'.format(i+1))\n",
        "        print ('EN text:')\n",
        "        print (en_text)\n",
        "        print ('RU text:')\n",
        "        print (ru_text)\n",
        "        print ('Generated text:')\n",
        "        print (gen_text)\n",
        "        print ()\n",
        "\n",
        "# A function which would tokenize the 'ru' and 'en' texts.\n",
        "def preprocess_function(examples):\n",
        "    inputs = [ex for ex in examples[\"en\"]]\n",
        "    targets = [ex for ex in examples[\"ru\"]]\n",
        "    model_inputs = tokenizer(\n",
        "        inputs, text_target=targets, max_length=MAX_LENGTH, truncation=True\n",
        "    )\n",
        "    return model_inputs"
      ],
      "metadata": {
        "id": "VB7kSq057atN"
      },
      "execution_count": null,
      "outputs": []
    },
    {
      "cell_type": "markdown",
      "source": [
        "## Data\n",
        "We will use TRAIN_PAIRS_1 and VAL_PAIRS_1 for train and validation respectively. First, let us convert them to Datasets."
      ],
      "metadata": {
        "id": "FCzsw0Xg1QKS"
      }
    },
    {
      "cell_type": "code",
      "source": [
        "dataset_train = Dataset.from_dict({'ru': [pair[0] for pair in TRAIN_PAIRS_1],\n",
        "                                   'en': [pair[1] for pair in TRAIN_PAIRS_1]})\n",
        "dataset_val = Dataset.from_dict({'ru': [pair[0] for pair in VAL_PAIRS_1],\n",
        "                                 'en': [pair[1] for pair in VAL_PAIRS_1]})"
      ],
      "metadata": {
        "id": "l_0fEgtn7rng"
      },
      "execution_count": null,
      "outputs": []
    },
    {
      "cell_type": "markdown",
      "source": [
        "## Model\n",
        "We will use pretrained transformer for en-ru pair and we will try to finetune it to our set.\n",
        "\n",
        "**Useful links**:\n",
        "1. https://huggingface.co/Helsinki-NLP/opus-mt-en-ru"
      ],
      "metadata": {
        "id": "LrMNKa4sO2Tc"
      }
    },
    {
      "cell_type": "markdown",
      "source": [
        "Load the tokenizer"
      ],
      "metadata": {
        "id": "ROA0k0hE11QR"
      }
    },
    {
      "cell_type": "code",
      "source": [
        "model_checkpoint = \"Helsinki-NLP/opus-mt-en-ru\"\n",
        "\n",
        "# Loading model (yes, it is very easy nowdays...)\n",
        "model = AutoModelForSeq2SeqLM.from_pretrained(model_checkpoint)\n",
        "tokenizer = AutoTokenizer.from_pretrained(model_checkpoint, return_tensors=\"pt\")"
      ],
      "metadata": {
        "id": "ROv3m8QF7rrr"
      },
      "execution_count": null,
      "outputs": []
    },
    {
      "cell_type": "markdown",
      "source": [
        "Transform the datasets using preprocess_function."
      ],
      "metadata": {
        "id": "TgLTlbXZ16LS"
      }
    },
    {
      "cell_type": "code",
      "source": [
        "tokenized_dataset_train = dataset_train.map(preprocess_function, batched=True)\n",
        "tokenized_dataset_val = dataset_val.map(preprocess_function, batched=True)\n",
        "\n",
        "data_collator = DataCollatorForSeq2Seq(tokenizer, model=model)"
      ],
      "metadata": {
        "id": "Eo65MCE97AJv"
      },
      "execution_count": null,
      "outputs": []
    },
    {
      "cell_type": "markdown",
      "source": [
        "Set the hyperparameters\n"
      ],
      "metadata": {
        "id": "gbG0xLqs9DYz"
      }
    },
    {
      "cell_type": "code",
      "source": [
        "LR = 5e-4 # Try to play with it too\n",
        "BATCH_SIZE = 16\n",
        "WEIGHT_DECAY = 0.02\n",
        "NUM_EPOCHS = 10 # Try to play with it, but remember (1 epoch ~ 1min)"
      ],
      "metadata": {
        "id": "4j0WbgIJ8d54"
      },
      "execution_count": null,
      "outputs": []
    },
    {
      "cell_type": "code",
      "source": [
        "# Setting all arguments that will be used\n",
        "training_args = Seq2SeqTrainingArguments(\n",
        "    report_to=\"none\", # Disabling Wandb for seminar\n",
        "    learning_rate=LR,\n",
        "    per_device_train_batch_size=BATCH_SIZE,\n",
        "    per_device_eval_batch_size=BATCH_SIZE,\n",
        "    weight_decay=WEIGHT_DECAY,\n",
        "    num_train_epochs=NUM_EPOCHS,\n",
        "    predict_with_generate=True,\n",
        "    fp16=True,\n",
        ")\n",
        "\n",
        "# Setting up our trainer wrapper\n",
        "trainer = Seq2SeqTrainer(\n",
        "    <YOUR_CODE>, # What must be here?\n",
        "    training_args,\n",
        "    train_dataset=<YOUR_CODE>, # What must be here?\n",
        "    eval_dataset=<YOUR_CODE>, # What must be here?\n",
        "    data_collator=data_collator,\n",
        "    tokenizer=<YOUR_CODE>, # What must be here?\n",
        "    compute_metrics=compute_bleu_score,\n",
        ")"
      ],
      "metadata": {
        "id": "I-9tkZWD8A3c"
      },
      "execution_count": null,
      "outputs": []
    },
    {
      "cell_type": "markdown",
      "source": [
        "Evaluate model quality before training"
      ],
      "metadata": {
        "id": "5UbFQqwL9JGO"
      }
    },
    {
      "cell_type": "code",
      "source": [
        "trainer.evaluate(max_length=MAX_LENGTH)"
      ],
      "metadata": {
        "id": "gHiXJsgE8A7C"
      },
      "execution_count": null,
      "outputs": []
    },
    {
      "cell_type": "markdown",
      "source": [
        "Explore some examples of wrong translations"
      ],
      "metadata": {
        "id": "CD7EJ3Yy9Nr7"
      }
    },
    {
      "cell_type": "code",
      "source": [
        "print_translation_examples(model)"
      ],
      "metadata": {
        "id": "cu8RcNwR8A-s"
      },
      "execution_count": null,
      "outputs": []
    },
    {
      "cell_type": "code",
      "source": [
        "trainer.train()"
      ],
      "metadata": {
        "id": "n4XUKo1e80j9"
      },
      "execution_count": null,
      "outputs": []
    },
    {
      "cell_type": "markdown",
      "source": [
        "Evaluate the model quality after training. Could you achieve a better BLEU score?"
      ],
      "metadata": {
        "id": "2F-z4yVy9VRE"
      }
    },
    {
      "cell_type": "code",
      "source": [
        "trainer.evaluate(max_length=MAX_LENGTH)"
      ],
      "metadata": {
        "id": "OFx93avF80mp"
      },
      "execution_count": null,
      "outputs": []
    },
    {
      "cell_type": "markdown",
      "source": [
        "Explore translations of trained model for the same examples. Do you see an improvement?"
      ],
      "metadata": {
        "id": "4aV00WzC9eae"
      }
    },
    {
      "cell_type": "code",
      "source": [
        "print_translation_examples(model)"
      ],
      "metadata": {
        "id": "g8LIJ2pm80ph"
      },
      "execution_count": null,
      "outputs": []
    }
  ],
  "metadata": {
    "accelerator": "GPU",
    "colab": {
      "collapsed_sections": [
        "yjXhRp7q_a53",
        "NqWPhzxH_eS3",
        "zyacnCAqOfw5"
      ],
      "gpuType": "T4",
      "toc_visible": true,
      "provenance": []
    },
    "kernelspec": {
      "display_name": "Python 3",
      "name": "python3"
    },
    "language_info": {
      "name": "python"
    }
  },
  "nbformat": 4,
  "nbformat_minor": 0
}