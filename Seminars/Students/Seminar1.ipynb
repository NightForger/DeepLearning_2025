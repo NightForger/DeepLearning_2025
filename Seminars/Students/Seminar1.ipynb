{
  "nbformat": 4,
  "nbformat_minor": 0,
  "metadata": {
    "colab": {
      "provenance": [],
      "gpuType": "T4",
      "collapsed_sections": [
        "KEri9HHJzPD2"
      ]
    },
    "kernelspec": {
      "name": "python3",
      "display_name": "Python 3"
    },
    "language_info": {
      "name": "python"
    },
    "accelerator": "GPU"
  },
  "cells": [
    {
      "cell_type": "markdown",
      "source": [
        "# Prerequisites"
      ],
      "metadata": {
        "id": "KEri9HHJzPD2"
      }
    },
    {
      "cell_type": "code",
      "source": [
        "%pip install torch torchvision torchviz torchinfo > None"
      ],
      "metadata": {
        "id": "3_QqMQttVfBQ"
      },
      "execution_count": null,
      "outputs": []
    },
    {
      "cell_type": "code",
      "source": [
        "import torch\n",
        "import torch.nn as nn\n",
        "import torch.optim as optim\n",
        "from torch.utils.data import DataLoader\n",
        "import torchvision\n",
        "import torchvision.transforms as transforms\n",
        "from torchviz import make_dot\n",
        "import matplotlib.pyplot as plt\n",
        "from torchinfo import summary\n",
        "import random\n",
        "import math\n",
        "import numpy as np\n",
        "\n",
        "def seed_everything(seed: int = 42) -> None:\n",
        "    random.seed(seed)\n",
        "    np.random.seed(seed)\n",
        "    torch.manual_seed(seed)\n",
        "\n",
        "    if torch.cuda.is_available():\n",
        "        torch.cuda.manual_seed(seed)\n",
        "        torch.cuda.manual_seed_all(seed)\n",
        "\n",
        "    torch.backends.cudnn.deterministic = True\n",
        "    torch.backends.cudnn.benchmark = False\n",
        "\n",
        "seed_everything(42)"
      ],
      "metadata": {
        "id": "-iaN-2YZbzEE"
      },
      "execution_count": null,
      "outputs": []
    },
    {
      "cell_type": "code",
      "source": [
        "def comp_graph(model, shape=[28, 28], channels=1):\n",
        "  # Put on the same device\n",
        "  model = model.to('cpu')\n",
        "  model.eval()\n",
        "  # Pass a dummy input through the network\n",
        "  sample_input = torch.randn(1, channels, shape[0], shape[1]).to('cpu')  # batch_size=1, channels=1, height=X, width=Y\n",
        "  y = model(sample_input)\n",
        "\n",
        "  # Creating Graph\n",
        "  dot = make_dot(y, params=dict(model.named_parameters()))\n",
        "  model.train()\n",
        "  return dot\n",
        "\n",
        "def summary_model(model, shape=[28, 28], channels=1):\n",
        "  return summary(model, input_size=(64, channels, shape[0], shape[1]))\n",
        "\n",
        "def loss_plt(train_losses, val_losses):\n",
        "  plt.plot(train_losses, label=\"Train Loss\")\n",
        "  plt.plot(val_losses, label=\"Val Loss\")\n",
        "  plt.legend()\n",
        "  plt.xlabel(\"Epoch\")\n",
        "  plt.ylabel(\"MSE Loss\")\n",
        "  plt.title(\"Training curve\")\n",
        "  plt.show()\n",
        "\n",
        "def plot_res(model):\n",
        "  grid_size = 50\n",
        "  x1_lin = np.linspace(-2, 2, grid_size)\n",
        "  x2_lin = np.linspace(-2, 2, grid_size)\n",
        "  X1, X2 = np.meshgrid(x1_lin, x2_lin)  # shape (grid_size, grid_size)\n",
        "\n",
        "  # Target\n",
        "  Y_true = true_function(X1, X2)\n",
        "\n",
        "  # Prediction\n",
        "  X1_flat = X1.ravel()\n",
        "  X2_flat = X2.ravel()\n",
        "  cache_grid = model.forward(X1_flat, X2_flat)\n",
        "  Y_pred = cache_grid[\"y_hat\"].reshape(X1.shape)\n",
        "\n",
        "  plt.figure(figsize=(12,5))\n",
        "\n",
        "  plt.subplot(1,2,1)\n",
        "  plt.title(\"True function: sin(x1)+cos(x2)\")\n",
        "  plt.imshow(Y_true, origin='lower',\n",
        "            extent=(-2,2,-2,2), aspect='auto')\n",
        "  plt.colorbar()\n",
        "\n",
        "  plt.subplot(1,2,2)\n",
        "  plt.title(\"Model prediction\")\n",
        "  plt.imshow(Y_pred, origin='lower',\n",
        "            extent=(-2,2,-2,2), aspect='auto')\n",
        "  plt.colorbar()\n",
        "\n",
        "  plt.show()"
      ],
      "metadata": {
        "id": "wUbG178OVs2s"
      },
      "execution_count": null,
      "outputs": []
    },
    {
      "cell_type": "code",
      "source": [
        "def get_mnist_data():\n",
        "  # Transform: convert images to tensors & normalize\n",
        "  transform = transforms.Compose([\n",
        "      transforms.ToTensor(),\n",
        "      transforms.Normalize((0.5,), (0.5,))  # for grayscale mean=0.5, std=0.5\n",
        "  ])\n",
        "\n",
        "  # Download and create Datasets\n",
        "  train_dataset = torchvision.datasets.MNIST(root='./data', train=True, transform=transform, download=True)\n",
        "  test_dataset = torchvision.datasets.MNIST(root='./data', train=False, transform=transform, download=True)\n",
        "\n",
        "  # Create DataLoaders\n",
        "  train_loader = DataLoader(train_dataset, batch_size=64, shuffle=True)\n",
        "  test_loader = DataLoader(test_dataset, batch_size=1000, shuffle=False)\n",
        "\n",
        "  # Visualisation\n",
        "  examples = iter(test_loader)\n",
        "  example_data, example_targets = next(examples)\n",
        "\n",
        "  fig = plt.figure()\n",
        "  for i in range(6):\n",
        "      plt.subplot(2, 3, i+1)\n",
        "      plt.tight_layout()\n",
        "      plt.imshow(example_data[i][0], cmap='gray')\n",
        "      plt.title(f\"Label: {example_targets[i].item()}\")\n",
        "      plt.axis('off')\n",
        "  plt.show()\n",
        "\n",
        "  return train_loader, test_loader\n",
        "\n",
        "def get_cifar_data():\n",
        "  # Data augmentation and normalization for CIFAR\n",
        "  transform_train = transforms.Compose([\n",
        "      transforms.RandomCrop(32, padding=4),  # a bit of augmentation\n",
        "      transforms.RandomHorizontalFlip(),\n",
        "      transforms.ToTensor(),\n",
        "      transforms.Normalize((0.5, 0.5, 0.5),\n",
        "                          (0.5, 0.5, 0.5))\n",
        "  ])\n",
        "\n",
        "  transform_test = transforms.Compose([\n",
        "      transforms.ToTensor(),\n",
        "      transforms.Normalize((0.5, 0.5, 0.5),\n",
        "                          (0.5, 0.5, 0.5))\n",
        "  ])\n",
        "\n",
        "  train_dataset = torchvision.datasets.CIFAR10(root='./data', train=True, download=True, transform=transform_train)\n",
        "  test_dataset = torchvision.datasets.CIFAR10(root='./data', train=False, download=True, transform=transform_test)\n",
        "\n",
        "  train_loader = DataLoader(train_dataset, batch_size=64, shuffle=True)\n",
        "  test_loader = DataLoader(test_dataset, batch_size=100, shuffle=False)\n",
        "\n",
        "  # batch from DataLoader: (B, C, H, W)\n",
        "  data_iter = iter(test_loader)\n",
        "  images, labels = next(data_iter)\n",
        "\n",
        "  fig = plt.figure(figsize=(8,4))\n",
        "  for i in range(6):\n",
        "      plt.subplot(2, 3, i+1)\n",
        "      plt.tight_layout()\n",
        "\n",
        "      # (C,H,W) -> (H,W,C)\n",
        "      img = images[i].permute(1,2,0).clone()  # clone() for not in-place ops\n",
        "\n",
        "      # Back norm for drawing\n",
        "      mean = torch.tensor([0.5, 0.5, 0.5])\n",
        "      std  = torch.tensor([0.5, 0.5, 0.5])\n",
        "      img = img * std + mean  # For each C\n",
        "\n",
        "      # Now img is in [0..1]\n",
        "      img = torch.clamp(img, 0, 1)  # Clipping for float-ops errors\n",
        "\n",
        "      plt.imshow(img)\n",
        "      plt.title(f\"Label: {labels[i].item()}\")\n",
        "      plt.axis('off')\n",
        "\n",
        "  plt.show()\n",
        "\n",
        "  return train_loader, test_loader\n"
      ],
      "metadata": {
        "id": "e8-tSZYQc_Mr"
      },
      "execution_count": null,
      "outputs": []
    },
    {
      "cell_type": "markdown",
      "source": [
        "# Mnist\n",
        "**Dataset**:\n",
        "* Image shapes: 28x28\n",
        "* Image channels: 1\n",
        "* Num classes: 10\n",
        "\n",
        "**Model**:\n",
        "* FC (3 layers):\n",
        "  * Input_size*Input_size x 256\n",
        "  * 256 x 128\n",
        "  * 128 x num_classes\n",
        "* Relu activation\n",
        "\n",
        "**Training**:\n",
        "* Epochs: 5\n",
        "* Optimizer: Adam\n",
        "* LR: 0.001\n",
        "* CrossEntropyLoss\n",
        "* Needed accuracy: ~97%\n",
        "\n",
        "**Helpful links**:\n",
        "1.   https://pytorch.org/docs/stable/generated/torch.nn.Flatten.html\n",
        "2.   https://pytorch.org/docs/stable/generated/torch.nn.Linear.html\n",
        "3.   https://pytorch.org/docs/stable/generated/torch.nn.ReLU.html\n",
        "4.   https://pytorch.org/docs/stable/generated/torch.nn.CrossEntropyLoss.html\n",
        "5.   https://pytorch.org/docs/stable/generated/torch.optim.Adam.html\n",
        "\n"
      ],
      "metadata": {
        "id": "VZrg6KhSzYzb"
      }
    },
    {
      "cell_type": "code",
      "source": [
        "train_loader, test_loader = get_mnist_data()"
      ],
      "metadata": {
        "colab": {
          "base_uri": "https://localhost:8080/",
          "height": 438
        },
        "id": "RHq4SHGDzWIQ",
        "outputId": "a79a94fb-43dc-4d0e-cf51-ea0f5e2ab365"
      },
      "execution_count": null,
      "outputs": [
        {
          "output_type": "display_data",
          "data": {
            "text/plain": [
              "<Figure size 640x480 with 6 Axes>"
            ],
            "image/png": "[encoded data removed]"
          },
          "metadata": {}
        }
      ]
    },
    {
      "cell_type": "code",
      "source": [
        "class SimpleMLP(nn.Module):\n",
        "    def __init__(self):\n",
        "        super(SimpleMLP, self).__init__()\n",
        "        # Dont forget to flatten\n",
        "        <YOUR CODE HERE>\n",
        "\n",
        "    def forward(self, x):\n",
        "        <YOUR CODE HERE>\n",
        "\n",
        "model = SimpleMLP()\n",
        "print(model)"
      ],
      "metadata": {
        "colab": {
          "base_uri": "https://localhost:8080/"
        },
        "id": "mN1mKbe_z8GR",
        "outputId": "ab55351e-6a6c-49f8-b29b-e53fa5638e89"
      },
      "execution_count": null,
      "outputs": [
        {
          "output_type": "stream",
          "name": "stdout",
          "text": [
            "SimpleMLP(\n",
            "  (flatten): Flatten(start_dim=1, end_dim=-1)\n",
            "  (fc1): Linear(in_features=784, out_features=256, bias=True)\n",
            "  (fc2): Linear(in_features=256, out_features=128, bias=True)\n",
            "  (fc3): Linear(in_features=128, out_features=10, bias=True)\n",
            ")\n"
          ]
        }
      ]
    },
    {
      "cell_type": "code",
      "source": [
        "print(summary_model(model))\n",
        "comp_graph(model)"
      ],
      "metadata": {
        "id": "NzGUhLrU0DlB"
      },
      "execution_count": null,
      "outputs": []
    },
    {
      "cell_type": "code",
      "source": [
        "# Training loop\n",
        "learning_rate = <YOUR CODE HERE>\n",
        "epochs = <YOUR CODE HERE>\n",
        "\n",
        "criterion = nn.CrossEntropyLoss()\n",
        "optimizer = optim.Adam(model.parameters(), lr=learning_rate)\n",
        "\n",
        "for epoch in range(epochs):\n",
        "    running_loss = 0.0\n",
        "    for batch_idx, (data, target) in enumerate(train_loader):\n",
        "        <YOUR CODE HERE>\n",
        "\n",
        "        running_loss += loss.item()\n",
        "        if (batch_idx+1) % 100 == 0:\n",
        "            print(f\"Epoch [{epoch+1}/{epochs}], Step [{batch_idx+1}/{len(train_loader)}], Loss: {running_loss/100:.4f}\")\n",
        "            running_loss = 0.0\n"
      ],
      "metadata": {
        "id": "dslbtv-Y0Rpc"
      },
      "execution_count": null,
      "outputs": []
    },
    {
      "cell_type": "code",
      "source": [
        "# Test loop\n",
        "correct = 0\n",
        "total = 0\n",
        "model.eval()  # switch to evaluation mode\n",
        "with torch.no_grad():\n",
        "    for data, targets in test_loader:\n",
        "        outputs = model(data)\n",
        "        _, predicted = torch.max(outputs, 1)\n",
        "        total += targets.size(0)\n",
        "        correct += (predicted == targets).sum().item()\n",
        "\n",
        "accuracy = 100 * correct / total\n",
        "print(f\"Test Accuracy: {accuracy:.2f}%\")\n"
      ],
      "metadata": {
        "id": "dCvcsN660UkH"
      },
      "execution_count": null,
      "outputs": []
    },
    {
      "cell_type": "markdown",
      "source": [
        "# CIFAR-10\n",
        "**Dataset**:\n",
        "* Image shapes: 32x32\n",
        "* Image channels: 3\n",
        "* Num classes: 10\n",
        "\n",
        "**Model**:\n",
        "* ResNet\n",
        "* Device: Only gpu, please\n",
        "\n",
        "**Training**:\n",
        "* Epochs: 10\n",
        "* Optimizer: SGD\n",
        "  * lr: 0.1\n",
        "  * momentum: 0.9,\n",
        "  * weight_decay: 5e-4\n",
        "* LR: StepLR Scheduler\n",
        "  * step_size: 5\n",
        "  * gamma: 0.1\n",
        "* CrossEntropyLoss\n",
        "* Needed accuracy: ~80%\n",
        "\n",
        "**Helpful links**:\n",
        "1.   https://pytorch.org/vision/stable/models/resnet.html\n",
        "2.   https://pytorch.org/docs/stable/generated/torch.nn.CrossEntropyLoss.html\n",
        "3.   https://pytorch.org/docs/stable/generated/torch.optim.Adam.html\n",
        "4.   https://pytorch.org/docs/stable/generated/torch.optim.lr_scheduler.StepLR.html\n",
        "\n",
        "\n",
        "\n"
      ],
      "metadata": {
        "id": "O1XWUAEF1Gzf"
      }
    },
    {
      "cell_type": "code",
      "source": [
        "train_loader, test_loader = get_cifar_data()"
      ],
      "metadata": {
        "colab": {
          "base_uri": "https://localhost:8080/",
          "height": 383
        },
        "id": "EdiB0Evkh30M",
        "outputId": "ba37e26a-8101-4b5e-e0f2-7cf8344bdde7"
      },
      "execution_count": null,
      "outputs": [
        {
          "output_type": "display_data",
          "data": {
            "text/plain": [
              "<Figure size 800x400 with 6 Axes>"
            ],
            "image/png": "[encoded data removed]"
          },
          "metadata": {}
        }
      ]
    },
    {
      "cell_type": "code",
      "source": [
        "import torchvision.models as models\n",
        "\n",
        "device = torch.device(\"cuda\" if torch.cuda.is_available() else \"cpu\")\n",
        "print(\"Using device:\", device)\n",
        "\n",
        "resnet = <YOUR CODE HERE>\n",
        "# By default, ResNet18 expects 1000 classes for ImageNet, so let's adjust the final layer:\n",
        "resnet.fc = nn.Linear(resnet.fc.in_features, 10)\n",
        "\n",
        "# Viz our resnet\n",
        "print(summary_model(resnet, shape=[32,32], channels=3))\n",
        "comp_graph(resnet, shape=[32,32], channels=3)"
      ],
      "metadata": {
        "id": "59HHISeu1JqR"
      },
      "execution_count": null,
      "outputs": []
    },
    {
      "cell_type": "code",
      "source": [
        "from torch.optim.lr_scheduler import StepLR\n",
        "criterion = nn.CrossEntropyLoss()\n",
        "optimizer = <YOUR CODE HERE>\n",
        "scheduler = <YOUR CODE HERE>\n",
        "\n",
        "# Use gpu, please\n",
        "resnet = resnet.to(device)\n",
        "\n",
        "epochs = 15\n",
        "for epoch in range(epochs):\n",
        "    resnet.train()\n",
        "    running_loss = 0.0\n",
        "\n",
        "    for i, (images, labels) in enumerate(train_loader):\n",
        "        images, labels = images.to(device), labels.to(device)\n",
        "\n",
        "        <YOUR CODE HERE>\n",
        "\n",
        "        running_loss += loss.item()\n",
        "        if (i+1) % 100 == 0:\n",
        "            print(f\"Epoch [{epoch+1}/{epochs}], Step [{i+1}/{len(train_loader)}], Loss: {running_loss/100:.4f}\")\n",
        "            running_loss = 0.0\n",
        "    scheduler.step()\n"
      ],
      "metadata": {
        "id": "0F6vb3TH1Lhp"
      },
      "execution_count": null,
      "outputs": []
    },
    {
      "cell_type": "code",
      "source": [
        "resnet.eval()\n",
        "correct = 0\n",
        "total = 0\n",
        "with torch.no_grad():\n",
        "    for images, labels in test_loader:\n",
        "        images, labels = images.to(device), labels.to(device)\n",
        "        outputs = resnet(images)\n",
        "        _, predicted = torch.max(outputs, 1)\n",
        "        total += labels.size(0)\n",
        "        correct += (predicted == labels).sum().item()\n",
        "\n",
        "print(f\"Test Accuracy: {100 * correct / total:.2f}%\")\n"
      ],
      "metadata": {
        "id": "cHUGbrXByoiC"
      },
      "execution_count": null,
      "outputs": []
    },
    {
      "cell_type": "markdown",
      "source": [
        "# Manual Backprop\n",
        "\n",
        "We want to approximate the function\n",
        "$$f(x_1, x_2) = \\sin(x_1) + \\cos(x_2)$$\n",
        "by training a small neural network from scratch\n",
        "\n",
        "# 1. Model Architecture\n",
        "\n",
        "1. Input: two scalars \\((x_1, x_2)\\), which we stack into a vector $\\mathbf{x} \\in \\mathbb{R}^2$.  \n",
        "2. Hidden Layer: 8 neurons, each with a $\\tanh$ activation.  \n",
        "3. Output Layer: a single scalar $\\hat{y}$.\n",
        "\n",
        "We define:\n",
        "$$\n",
        "\\begin{aligned}\n",
        "\\mathbf{z}_1 &= \\mathbf{x} \\,\\mathbf{W}_1 + \\mathbf{b}_1,\n",
        "\\quad& &\\text{where } \\mathbf{W}_1 \\in \\mathbb{R}^{2 \\times 8}, \\;\\mathbf{b}_1 \\in \\mathbb{R}^{8}, \\\\[4pt]\n",
        "\\mathbf{h}_1 &= \\tanh(\\mathbf{z}_1),\n",
        "\\quad& &\\text{(\\(8\\)-dim hidden)}\\\\[4pt]\n",
        "z_2 &= \\mathbf{h}_1 \\cdot \\mathbf{w}_2 + b_2,\n",
        "\\quad& &\\text{where } \\mathbf{w}_2 \\in \\mathbb{R}^{8}, \\;b_2 \\in \\mathbb{R}, \\\\[4pt]\n",
        "\\hat{y} &= z_2.\n",
        "\\end{aligned}\n",
        "$$\n",
        "\n",
        "- $\\mathbf{x} \\,\\mathbf{W}_1$ means a matrix multiplication with shape $(N,2)$$\\times$$(2,8)$ if we have a batch of $N$ data points.  \n",
        "- The hidden output $\\mathbf{h}_1$ has shape $(N,8)$.  \n",
        "- Multiplying by $\\mathbf{w}_2$ $(8,)$ yields a single scalar per sample.\n",
        "\n",
        "## 2. Loss Function.\n",
        "\n",
        "We use mean squared error with a 0.5 coef (to simplify partial derivatives):\n",
        "$$\n",
        "\\text{Loss} = 0.5 \\cdot MSE =\\frac{1}{2N} \\sum_{i=1}^{N} \\bigl(\\hat{y}_i - y_i\\bigr)^2.\n",
        "$$\n",
        "\n",
        "## 3. Forward Pass\n",
        "\n",
        "For a batch of size N:\n",
        "\n",
        "1. We form $\\mathbf{X} \\in \\mathbb{R}^{N\\times2}$ by stacking $(x_1, x_2)$ for each data point.  \n",
        "2. Compute\n",
        "   $$\n",
        "   \\mathbf{z}_1 = \\mathbf{X}\\,\\mathbf{W}_1 + \\mathbf{b}_1,\n",
        "   \\quad\n",
        "   \\mathbf{h}_1 = \\tanh(\\mathbf{z}_1),\n",
        "   $$\n",
        "3. Then\n",
        "   $$\n",
        "   z_2 = \\mathbf{h}_1 \\cdot \\mathbf{w}_2 + b_2,\n",
        "   \\quad\n",
        "   \\hat{y} = z_2 \\;\\;(\\text{flattened to shape }(N,)).\n",
        "   $$\n",
        "\n",
        "We store these intermediate values for backprop.\n",
        "\n",
        "## 4. Backward Pass (chain rule)\n",
        "\n",
        "### 4.1. Derivative wrt $\\hat{y}$\n",
        "\n",
        "From\n",
        "$$\\text{Loss} = \\tfrac12 \\cdot \\frac{1}{N} \\sum (\\hat{y}-y)^2$$\n",
        "we get:\n",
        "$$\n",
        "\\frac{\\partial \\text{Loss}}{\\partial \\hat{y}_i}\n",
        "= \\frac{\\hat{y}_i - y_i}{N}.\n",
        "$$\n",
        "\n",
        "### 4.2. Output layer\n",
        "$$\n",
        "z_2 = \\mathbf{h}_1 \\cdot \\mathbf{w}_2 + b_2,\n",
        "\\quad\n",
        "\\hat{y} = z_2.\n",
        "$$\n",
        "\n",
        "- Grad wrt $\\mathbf{w}_2$:\n",
        "  $$\n",
        "  \\frac{\\partial \\text{Loss}}{\\partial \\mathbf{w}_2}\n",
        "  \\;=\\;\n",
        "  \\sum_{i=1}^{N}\n",
        "  \\bigl(\\hat{y}_i - y_i\\bigr)\\,\\frac{1}{N}\\,\\mathbf{h}_{1,i},\n",
        "  $$\n",
        "  where $\\mathbf{h}_{1,i}$ is the 8-D row from $\\mathbf{h}_1$.\n",
        "\n",
        "- Grad wrt $b_2$:\n",
        "  $$\n",
        "  \\frac{\\partial \\text{Loss}}{\\partial b_2}\n",
        "  \\;=\\;\n",
        "  \\sum_{i=1}^{N}\n",
        "  \\bigl(\\hat{y}_i - y_i\\bigr)\\,\\frac{1}{N}.\n",
        "  $$\n",
        "\n",
        "- Grad wrt $\\mathbf{h}_1$:\n",
        "  $$\n",
        "  \\frac{\\partial \\text{Loss}}{\\partial \\mathbf{h}_{1,i}}\n",
        "  \\;=\\;\n",
        "  \\frac{\\hat{y}_i - y_i}{N}\\,\\mathbf{w}_2,\n",
        "  $$\n",
        "  which is an 8-D vector.\n",
        "\n",
        "### 4.3. Hidden layer\n",
        "\n",
        "$$\n",
        "\\mathbf{h}_1 = \\tanh(\\mathbf{z}_1),\n",
        "\\quad\n",
        "\\mathbf{z}_1 = \\mathbf{X}\\,\\mathbf{W}_1 + \\mathbf{b}_1.\n",
        "$$\n",
        "\n",
        "- Derivative of $\\tanh(z)$ is $1 - \\tanh^2(z)$.  \n",
        "- For each sample $i$,\n",
        "  $$\n",
        "  \\frac{\\partial \\text{Loss}_i}{\\partial \\mathbf{z}_{1,i}}\n",
        "  \\;=\\;\n",
        "  \\frac{\\partial \\text{Loss}_i}{\\partial \\mathbf{h}_{1,i}}\n",
        "  \\;\\odot\\; \\bigl(1 - \\tanh^2(\\mathbf{z}_{1,i})\\bigr),\n",
        "  $$\n",
        "  where $\\odot$ denotes elementwise multiplication.\n",
        "\n",
        "- Then\n",
        "  $$\n",
        "  \\frac{\\partial \\text{Loss}}{\\partial \\mathbf{W}_1}\n",
        "  \\;=\\;\n",
        "  \\mathbf{X}^\\top\n",
        "  \\bigl(\n",
        "    \\frac{\\partial \\text{Loss}}{\\partial \\mathbf{z}_1}\n",
        "  \\bigr),\n",
        "  \\quad\n",
        "  \\frac{\\partial \\text{Loss}}{\\partial \\mathbf{b}_1}\n",
        "  \\;=\\;\n",
        "  \\sum_{i=1}^{N}\n",
        "  \\frac{\\partial \\text{Loss}_i}{\\partial \\mathbf{z}_{1,i}}.\n",
        "  $$\n",
        "  (Both sums and matrix multiplications performed over the batch.)\n",
        "\n",
        "## 5. Parameter Update\n",
        "\n",
        "Via gradient descent with learning rate $\\eta$. For every parameter $\\theta\\in\\{ \\mathbf{W}_1,\\mathbf{b}_1,\\mathbf{w}_2,b_2\\}$:\n",
        "\n",
        "$$\n",
        "\\theta \\leftarrow \\theta \\;-\\; \\eta\n",
        "\\;\\frac{\\partial\\text{Loss}}{\\partial \\theta}.\n",
        "$$\n",
        "\n",
        "## 6. Summary\n",
        "\n",
        "1. Forward:  \n",
        "   $$\n",
        "   \\mathbf{z}_1 = \\mathbf{X}\\,\\mathbf{W}_1 + \\mathbf{b}_1, \\quad\n",
        "   \\mathbf{h}_1 = \\tanh(\\mathbf{z}_1),\\quad\n",
        "   \\hat{y} = \\mathbf{h}_1\\cdot \\mathbf{w}_2 + b_2.\n",
        "   $$\n",
        "2. Loss: $\\tfrac{1}{2N}\\sum(\\hat{y}-y)^2.$\n",
        "3. Backward: Compute partial derivatives wrt each parameter via chain rule, as shown above.  \n",
        "4. Update: $\\theta \\leftarrow \\theta - \\eta \\,\\partial\\text{Loss}/\\partial\\theta.$"
      ],
      "metadata": {
        "id": "y0K7IIxdBt53"
      }
    },
    {
      "cell_type": "code",
      "source": [
        "def true_function(x1, x2):\n",
        "    return np.sin(x1) + np.cos(x2)\n",
        "\n",
        "def mse_loss(y_hat, y):\n",
        "    \"\"\"\n",
        "    0.5 * mean((y_hat - y)^2)\n",
        "    \"\"\"\n",
        "    return 0.5 * np.mean((y_hat - y)**2)\n",
        "\n",
        "def generate_dataset(N_train=500, N_val=100):\n",
        "    # Train\n",
        "    x1_train = np.random.uniform(-2, 2, size=N_train)\n",
        "    x2_train = np.random.uniform(-2, 2, size=N_train)\n",
        "    y_train  = true_function(x1_train, x2_train)\n",
        "\n",
        "    # Val\n",
        "    x1_val = np.random.uniform(-2, 2, size=N_val)\n",
        "    x2_val = np.random.uniform(-2, 2, size=N_val)\n",
        "    y_val  = true_function(x1_val, x2_val)\n",
        "\n",
        "    return (x1_train, x2_train, y_train), (x1_val, x2_val, y_val)\n",
        "\n",
        "# Dataset generation from function\n",
        "(x1_train, x2_train, y_train), (x1_val, x2_val, y_val) = generate_dataset()\n",
        "\n",
        "# Lets check distribution on train/val\n",
        "plt.scatter(x1_train, x2_train, alpha=0.5, label='Train')\n",
        "plt.scatter(x1_val, x2_val, alpha=0.5, label='Val')\n",
        "plt.title(\"Train/Val distribution\")\n",
        "plt.xlabel(\"x1\")\n",
        "plt.ylabel(\"x2\")\n",
        "plt.legend()\n",
        "plt.show()\n"
      ],
      "metadata": {
        "id": "LRPvQch-93F0",
        "colab": {
          "base_uri": "https://localhost:8080/",
          "height": 472
        },
        "outputId": "81b47025-d5f3-4e3b-bbcd-264b19ad4471"
      },
      "execution_count": null,
      "outputs": [
        {
          "output_type": "display_data",
          "data": {
            "text/plain": [
              "<Figure size 640x480 with 1 Axes>"
            ],
            "image/png": "[encoded data removed]"
          },
          "metadata": {}
        }
      ]
    },
    {
      "cell_type": "code",
      "source": [
        "import numpy as np\n",
        "\n",
        "class TinyTanhMLP:\n",
        "    \"\"\"\n",
        "    A small 2 -> 8 -> 1 MLP using tanh activations, trained with manual backprop.\n",
        "    \"\"\"\n",
        "    def __init__(self):\n",
        "        # Model parameters: w1,b1 for hidden layer; w2,b2 for output\n",
        "        # w1: shape (2,8), b1: shape (8,)\n",
        "        # w2: shape (8,),  b2: scalar\n",
        "        self.params = {\n",
        "            \"w1\": np.random.randn(2, 8),\n",
        "            \"b1\": np.random.randn(8),\n",
        "            \"w2\": np.random.randn(8),\n",
        "            \"b2\": np.random.randn()\n",
        "        }\n",
        "\n",
        "    def activation(self, z):\n",
        "        \"\"\"\n",
        "        Tanh activation.\n",
        "        \"\"\"\n",
        "        return np.tanh(z)\n",
        "\n",
        "    def activation_deriv(self, z):\n",
        "        \"\"\"\n",
        "        Derivative of tanh(z) = ???\n",
        "        \"\"\"\n",
        "        return <YOUR CODE HERE>\n",
        "\n",
        "    def forward(self, x1, x2):\n",
        "        \"\"\"\n",
        "        Forward pass: x1, x2 of shape (N,).\n",
        "        Returns a dict with intermediate values for backprop.\n",
        "        \"\"\"\n",
        "        X = np.column_stack([x1, x2])  # (N,2)\n",
        "\n",
        "        # Hidden layer: z1 -> h1\n",
        "        z1 = <YOUR CODE HERE>  # (N,8)\n",
        "        h1 = <YOUR CODE HERE>  # (N,8)\n",
        "\n",
        "        # Output layer: z2 -> y_hat\n",
        "        z2 = <YOUR CODE HERE>    # (N,)\n",
        "        y_hat = <YOUR CODE HERE> # shape (N,)\n",
        "\n",
        "        return {\n",
        "            \"X\": X,\n",
        "            \"z1\": z1,\n",
        "            \"h1\": h1,\n",
        "            \"z2\": z2,\n",
        "            \"y_hat\": y_hat\n",
        "        }\n",
        "\n",
        "    def backward(self, x1, x2, y, forward_cache):\n",
        "        \"\"\"\n",
        "        Computes gradients of all parameters w.r.t. MSE loss.\n",
        "        Returns a dict 'grads' with same keys as self.params.\n",
        "        \"\"\"\n",
        "        X    = forward_cache[\"X\"]   # (N,2)\n",
        "        z1   = forward_cache[\"z1\"]  # (N,8)\n",
        "        h1   = forward_cache[\"h1\"]  # (N,8)\n",
        "        z2   = forward_cache[\"z2\"]  # (N,)\n",
        "        y_hat= forward_cache[\"y_hat\"] # (N,)\n",
        "\n",
        "        N = len(y)\n",
        "\n",
        "        dLoss_dy = <YOUR CODE HERE>  # (N,)\n",
        "\n",
        "        # Expand dims for broadcasting in next step\n",
        "        dLoss_dz2 = dLoss_dy.reshape(-1,1)  # (N,1)\n",
        "\n",
        "        grads = {}\n",
        "\n",
        "        grads[\"w2\"] = <YOUR CODE HERE> # Dont forget to .reshape(8,)\n",
        "        grads[\"b2\"] = <YOUR CODE HERE> # shape (1,) => scalar\n",
        "\n",
        "        dLoss_dh1 = <YOUR CODE HERE> # Dont forget to .reshape(1,8) for w2\n",
        "        dLoss_dz1 = <YOUR CODE HERE>  # (N,8)\n",
        "\n",
        "        grads[\"w1\"] = <YOUR CODE HERE>  # (2,8)\n",
        "        grads[\"b1\"] = <YOUR CODE HERE>  # (8,)\n",
        "\n",
        "        return grads\n",
        "\n",
        "    def predict(self, x1, x2):\n",
        "        \"\"\"\n",
        "        Simple predict function: forward pass and return y_hat\n",
        "        \"\"\"\n",
        "        cache = self.forward(x1, x2)\n",
        "        return cache[\"y_hat\"]"
      ],
      "metadata": {
        "id": "sUyFtvEfHIa0"
      },
      "execution_count": null,
      "outputs": []
    },
    {
      "cell_type": "code",
      "source": [
        "learning_rate = 0.001\n",
        "num_epochs = 15_000\n",
        "\n",
        "model = TinyTanhMLP()\n",
        "\n",
        "train_losses = []\n",
        "val_losses = []\n",
        "\n",
        "for epoch in range(num_epochs):\n",
        "    # Train forward\n",
        "    cache_train = model.forward(x1_train, x2_train)\n",
        "    loss_train = mse_loss(cache_train[\"y_hat\"], y_train)\n",
        "\n",
        "    # Backward + Param update\n",
        "    grads = model.backward(x1_train, x2_train, y_train, cache_train)\n",
        "    for k in model.params.keys():\n",
        "      model.params[k] -= learning_rate * grads[k]\n",
        "\n",
        "    # Val forward\n",
        "    cache_val = model.forward(x1_val, x2_val)\n",
        "    loss_val = mse_loss(cache_val[\"y_hat\"], y_val)\n",
        "\n",
        "    train_losses.append(loss_train)\n",
        "    val_losses.append(loss_val)\n",
        "\n",
        "    # Info output\n",
        "    if (epoch+1) % 1_000 == 0:\n",
        "        print(f\"Epoch {epoch+1}/{num_epochs}: \"\n",
        "              f\"Train Loss={loss_train:.5f}, Val Loss={loss_val:.5f}\")\n"
      ],
      "metadata": {
        "id": "GHYHPLor5oza"
      },
      "execution_count": null,
      "outputs": []
    },
    {
      "cell_type": "code",
      "source": [
        "loss_plt(train_losses, val_losses)"
      ],
      "metadata": {
        "id": "s6AytQ0TAZTV"
      },
      "execution_count": null,
      "outputs": []
    },
    {
      "cell_type": "code",
      "source": [
        "plot_res(model)"
      ],
      "metadata": {
        "id": "5wrosBYhA-aC"
      },
      "execution_count": null,
      "outputs": []
    }
  ]
}